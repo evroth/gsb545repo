{
  "nbformat": 4,
  "nbformat_minor": 0,
  "metadata": {
    "colab": {
      "provenance": [],
      "authorship_tag": "ABX9TyOn2XGcUJjT1CnQF1uduWzT",
      "include_colab_link": true
    },
    "kernelspec": {
      "name": "python3",
      "display_name": "Python 3"
    },
    "language_info": {
      "name": "python"
    }
  },
  "cells": [
    {
      "cell_type": "markdown",
      "metadata": {
        "id": "view-in-github",
        "colab_type": "text"
      },
      "source": [
        "<a href=\"https://colab.research.google.com/github/evroth/gsb545repo/blob/main/Lab4_boosting.ipynb\" target=\"_parent\"><img src=\"https://colab.research.google.com/assets/colab-badge.svg\" alt=\"Open In Colab\"/></a>"
      ]
    },
    {
      "cell_type": "markdown",
      "source": [
        "# Lab 4: Predicting Heart Disease\n",
        "\n",
        "Using the Behavioral Risk Factor Surveillance System (BRFSS) from the CDC and boosting to predict heart disease."
      ],
      "metadata": {
        "id": "X15H5LF78mPb"
      }
    },
    {
      "cell_type": "markdown",
      "source": [
        "## The Data"
      ],
      "metadata": {
        "id": "zi7pe8oU_pHo"
      }
    },
    {
      "cell_type": "code",
      "execution_count": 1,
      "metadata": {
        "id": "UeEhJg_88jZH"
      },
      "outputs": [],
      "source": [
        "import pandas as pd\n",
        "\n",
        "df = pd.read_csv(\"heart_2020_cleaned.csv\")"
      ]
    },
    {
      "cell_type": "code",
      "source": [
        "df.sample(5)"
      ],
      "metadata": {
        "colab": {
          "base_uri": "https://localhost:8080/",
          "height": 270
        },
        "id": "XuwqwowPA1nT",
        "outputId": "42bc4f75-7005-46c8-b40c-fcf95990ba4b"
      },
      "execution_count": 2,
      "outputs": [
        {
          "output_type": "execute_result",
          "data": {
            "text/plain": [
              "       HeartDisease    BMI Smoking AlcoholDrinking Stroke  PhysicalHealth  \\\n",
              "109942           No  29.26     Yes              No     No            20.0   \n",
              "215594           No  32.28      No              No     No             0.0   \n",
              "154831           No  16.50     Yes              No     No             0.0   \n",
              "277593           No  20.36      No             Yes     No             0.0   \n",
              "57489            No  27.12      No              No     No             1.0   \n",
              "\n",
              "        MentalHealth DiffWalking     Sex AgeCategory   Race Diabetic  \\\n",
              "109942          30.0         Yes  Female       60-64  White       No   \n",
              "215594           0.0          No    Male       50-54  Black       No   \n",
              "154831           0.0          No    Male       75-79  White       No   \n",
              "277593           0.0          No  Female       50-54  White       No   \n",
              "57489            2.0          No    Male       35-39  White       No   \n",
              "\n",
              "       PhysicalActivity  GenHealth  SleepTime Asthma KidneyDisease SkinCancer  \n",
              "109942               No       Fair        5.0     No            No         No  \n",
              "215594               No       Good        8.0     No            No         No  \n",
              "154831              Yes       Good        8.0     No            No         No  \n",
              "277593              Yes  Excellent        8.0     No            No         No  \n",
              "57489               Yes  Excellent        7.0     No            No         No  "
            ],
            "text/html": [
              "\n",
              "  <div id=\"df-c3c97c6c-f04b-4d63-9e76-2399623bc533\">\n",
              "    <div class=\"colab-df-container\">\n",
              "      <div>\n",
              "<style scoped>\n",
              "    .dataframe tbody tr th:only-of-type {\n",
              "        vertical-align: middle;\n",
              "    }\n",
              "\n",
              "    .dataframe tbody tr th {\n",
              "        vertical-align: top;\n",
              "    }\n",
              "\n",
              "    .dataframe thead th {\n",
              "        text-align: right;\n",
              "    }\n",
              "</style>\n",
              "<table border=\"1\" class=\"dataframe\">\n",
              "  <thead>\n",
              "    <tr style=\"text-align: right;\">\n",
              "      <th></th>\n",
              "      <th>HeartDisease</th>\n",
              "      <th>BMI</th>\n",
              "      <th>Smoking</th>\n",
              "      <th>AlcoholDrinking</th>\n",
              "      <th>Stroke</th>\n",
              "      <th>PhysicalHealth</th>\n",
              "      <th>MentalHealth</th>\n",
              "      <th>DiffWalking</th>\n",
              "      <th>Sex</th>\n",
              "      <th>AgeCategory</th>\n",
              "      <th>Race</th>\n",
              "      <th>Diabetic</th>\n",
              "      <th>PhysicalActivity</th>\n",
              "      <th>GenHealth</th>\n",
              "      <th>SleepTime</th>\n",
              "      <th>Asthma</th>\n",
              "      <th>KidneyDisease</th>\n",
              "      <th>SkinCancer</th>\n",
              "    </tr>\n",
              "  </thead>\n",
              "  <tbody>\n",
              "    <tr>\n",
              "      <th>109942</th>\n",
              "      <td>No</td>\n",
              "      <td>29.26</td>\n",
              "      <td>Yes</td>\n",
              "      <td>No</td>\n",
              "      <td>No</td>\n",
              "      <td>20.0</td>\n",
              "      <td>30.0</td>\n",
              "      <td>Yes</td>\n",
              "      <td>Female</td>\n",
              "      <td>60-64</td>\n",
              "      <td>White</td>\n",
              "      <td>No</td>\n",
              "      <td>No</td>\n",
              "      <td>Fair</td>\n",
              "      <td>5.0</td>\n",
              "      <td>No</td>\n",
              "      <td>No</td>\n",
              "      <td>No</td>\n",
              "    </tr>\n",
              "    <tr>\n",
              "      <th>215594</th>\n",
              "      <td>No</td>\n",
              "      <td>32.28</td>\n",
              "      <td>No</td>\n",
              "      <td>No</td>\n",
              "      <td>No</td>\n",
              "      <td>0.0</td>\n",
              "      <td>0.0</td>\n",
              "      <td>No</td>\n",
              "      <td>Male</td>\n",
              "      <td>50-54</td>\n",
              "      <td>Black</td>\n",
              "      <td>No</td>\n",
              "      <td>No</td>\n",
              "      <td>Good</td>\n",
              "      <td>8.0</td>\n",
              "      <td>No</td>\n",
              "      <td>No</td>\n",
              "      <td>No</td>\n",
              "    </tr>\n",
              "    <tr>\n",
              "      <th>154831</th>\n",
              "      <td>No</td>\n",
              "      <td>16.50</td>\n",
              "      <td>Yes</td>\n",
              "      <td>No</td>\n",
              "      <td>No</td>\n",
              "      <td>0.0</td>\n",
              "      <td>0.0</td>\n",
              "      <td>No</td>\n",
              "      <td>Male</td>\n",
              "      <td>75-79</td>\n",
              "      <td>White</td>\n",
              "      <td>No</td>\n",
              "      <td>Yes</td>\n",
              "      <td>Good</td>\n",
              "      <td>8.0</td>\n",
              "      <td>No</td>\n",
              "      <td>No</td>\n",
              "      <td>No</td>\n",
              "    </tr>\n",
              "    <tr>\n",
              "      <th>277593</th>\n",
              "      <td>No</td>\n",
              "      <td>20.36</td>\n",
              "      <td>No</td>\n",
              "      <td>Yes</td>\n",
              "      <td>No</td>\n",
              "      <td>0.0</td>\n",
              "      <td>0.0</td>\n",
              "      <td>No</td>\n",
              "      <td>Female</td>\n",
              "      <td>50-54</td>\n",
              "      <td>White</td>\n",
              "      <td>No</td>\n",
              "      <td>Yes</td>\n",
              "      <td>Excellent</td>\n",
              "      <td>8.0</td>\n",
              "      <td>No</td>\n",
              "      <td>No</td>\n",
              "      <td>No</td>\n",
              "    </tr>\n",
              "    <tr>\n",
              "      <th>57489</th>\n",
              "      <td>No</td>\n",
              "      <td>27.12</td>\n",
              "      <td>No</td>\n",
              "      <td>No</td>\n",
              "      <td>No</td>\n",
              "      <td>1.0</td>\n",
              "      <td>2.0</td>\n",
              "      <td>No</td>\n",
              "      <td>Male</td>\n",
              "      <td>35-39</td>\n",
              "      <td>White</td>\n",
              "      <td>No</td>\n",
              "      <td>Yes</td>\n",
              "      <td>Excellent</td>\n",
              "      <td>7.0</td>\n",
              "      <td>No</td>\n",
              "      <td>No</td>\n",
              "      <td>No</td>\n",
              "    </tr>\n",
              "  </tbody>\n",
              "</table>\n",
              "</div>\n",
              "      <button class=\"colab-df-convert\" onclick=\"convertToInteractive('df-c3c97c6c-f04b-4d63-9e76-2399623bc533')\"\n",
              "              title=\"Convert this dataframe to an interactive table.\"\n",
              "              style=\"display:none;\">\n",
              "        \n",
              "  <svg xmlns=\"http://www.w3.org/2000/svg\" height=\"24px\"viewBox=\"0 0 24 24\"\n",
              "       width=\"24px\">\n",
              "    <path d=\"M0 0h24v24H0V0z\" fill=\"none\"/>\n",
              "    <path d=\"M18.56 5.44l.94 2.06.94-2.06 2.06-.94-2.06-.94-.94-2.06-.94 2.06-2.06.94zm-11 1L8.5 8.5l.94-2.06 2.06-.94-2.06-.94L8.5 2.5l-.94 2.06-2.06.94zm10 10l.94 2.06.94-2.06 2.06-.94-2.06-.94-.94-2.06-.94 2.06-2.06.94z\"/><path d=\"M17.41 7.96l-1.37-1.37c-.4-.4-.92-.59-1.43-.59-.52 0-1.04.2-1.43.59L10.3 9.45l-7.72 7.72c-.78.78-.78 2.05 0 2.83L4 21.41c.39.39.9.59 1.41.59.51 0 1.02-.2 1.41-.59l7.78-7.78 2.81-2.81c.8-.78.8-2.07 0-2.86zM5.41 20L4 18.59l7.72-7.72 1.47 1.35L5.41 20z\"/>\n",
              "  </svg>\n",
              "      </button>\n",
              "      \n",
              "  <style>\n",
              "    .colab-df-container {\n",
              "      display:flex;\n",
              "      flex-wrap:wrap;\n",
              "      gap: 12px;\n",
              "    }\n",
              "\n",
              "    .colab-df-convert {\n",
              "      background-color: #E8F0FE;\n",
              "      border: none;\n",
              "      border-radius: 50%;\n",
              "      cursor: pointer;\n",
              "      display: none;\n",
              "      fill: #1967D2;\n",
              "      height: 32px;\n",
              "      padding: 0 0 0 0;\n",
              "      width: 32px;\n",
              "    }\n",
              "\n",
              "    .colab-df-convert:hover {\n",
              "      background-color: #E2EBFA;\n",
              "      box-shadow: 0px 1px 2px rgba(60, 64, 67, 0.3), 0px 1px 3px 1px rgba(60, 64, 67, 0.15);\n",
              "      fill: #174EA6;\n",
              "    }\n",
              "\n",
              "    [theme=dark] .colab-df-convert {\n",
              "      background-color: #3B4455;\n",
              "      fill: #D2E3FC;\n",
              "    }\n",
              "\n",
              "    [theme=dark] .colab-df-convert:hover {\n",
              "      background-color: #434B5C;\n",
              "      box-shadow: 0px 1px 3px 1px rgba(0, 0, 0, 0.15);\n",
              "      filter: drop-shadow(0px 1px 2px rgba(0, 0, 0, 0.3));\n",
              "      fill: #FFFFFF;\n",
              "    }\n",
              "  </style>\n",
              "\n",
              "      <script>\n",
              "        const buttonEl =\n",
              "          document.querySelector('#df-c3c97c6c-f04b-4d63-9e76-2399623bc533 button.colab-df-convert');\n",
              "        buttonEl.style.display =\n",
              "          google.colab.kernel.accessAllowed ? 'block' : 'none';\n",
              "\n",
              "        async function convertToInteractive(key) {\n",
              "          const element = document.querySelector('#df-c3c97c6c-f04b-4d63-9e76-2399623bc533');\n",
              "          const dataTable =\n",
              "            await google.colab.kernel.invokeFunction('convertToInteractive',\n",
              "                                                     [key], {});\n",
              "          if (!dataTable) return;\n",
              "\n",
              "          const docLinkHtml = 'Like what you see? Visit the ' +\n",
              "            '<a target=\"_blank\" href=https://colab.research.google.com/notebooks/data_table.ipynb>data table notebook</a>'\n",
              "            + ' to learn more about interactive tables.';\n",
              "          element.innerHTML = '';\n",
              "          dataTable['output_type'] = 'display_data';\n",
              "          await google.colab.output.renderOutput(dataTable, element);\n",
              "          const docLink = document.createElement('div');\n",
              "          docLink.innerHTML = docLinkHtml;\n",
              "          element.appendChild(docLink);\n",
              "        }\n",
              "      </script>\n",
              "    </div>\n",
              "  </div>\n",
              "  "
            ]
          },
          "metadata": {},
          "execution_count": 2
        }
      ]
    },
    {
      "cell_type": "code",
      "source": [
        "df.describe()"
      ],
      "metadata": {
        "colab": {
          "base_uri": "https://localhost:8080/",
          "height": 300
        },
        "id": "MI1ylbnHCKsI",
        "outputId": "796158c6-533f-4fbb-feaf-c6ec44b39563"
      },
      "execution_count": 4,
      "outputs": [
        {
          "output_type": "execute_result",
          "data": {
            "text/plain": [
              "                 BMI  PhysicalHealth   MentalHealth      SleepTime\n",
              "count  319795.000000    319795.00000  319795.000000  319795.000000\n",
              "mean       28.325399         3.37171       3.898366       7.097075\n",
              "std         6.356100         7.95085       7.955235       1.436007\n",
              "min        12.020000         0.00000       0.000000       1.000000\n",
              "25%        24.030000         0.00000       0.000000       6.000000\n",
              "50%        27.340000         0.00000       0.000000       7.000000\n",
              "75%        31.420000         2.00000       3.000000       8.000000\n",
              "max        94.850000        30.00000      30.000000      24.000000"
            ],
            "text/html": [
              "\n",
              "  <div id=\"df-93ad277f-bd48-44a1-96bd-49e636eaf6a8\">\n",
              "    <div class=\"colab-df-container\">\n",
              "      <div>\n",
              "<style scoped>\n",
              "    .dataframe tbody tr th:only-of-type {\n",
              "        vertical-align: middle;\n",
              "    }\n",
              "\n",
              "    .dataframe tbody tr th {\n",
              "        vertical-align: top;\n",
              "    }\n",
              "\n",
              "    .dataframe thead th {\n",
              "        text-align: right;\n",
              "    }\n",
              "</style>\n",
              "<table border=\"1\" class=\"dataframe\">\n",
              "  <thead>\n",
              "    <tr style=\"text-align: right;\">\n",
              "      <th></th>\n",
              "      <th>BMI</th>\n",
              "      <th>PhysicalHealth</th>\n",
              "      <th>MentalHealth</th>\n",
              "      <th>SleepTime</th>\n",
              "    </tr>\n",
              "  </thead>\n",
              "  <tbody>\n",
              "    <tr>\n",
              "      <th>count</th>\n",
              "      <td>319795.000000</td>\n",
              "      <td>319795.00000</td>\n",
              "      <td>319795.000000</td>\n",
              "      <td>319795.000000</td>\n",
              "    </tr>\n",
              "    <tr>\n",
              "      <th>mean</th>\n",
              "      <td>28.325399</td>\n",
              "      <td>3.37171</td>\n",
              "      <td>3.898366</td>\n",
              "      <td>7.097075</td>\n",
              "    </tr>\n",
              "    <tr>\n",
              "      <th>std</th>\n",
              "      <td>6.356100</td>\n",
              "      <td>7.95085</td>\n",
              "      <td>7.955235</td>\n",
              "      <td>1.436007</td>\n",
              "    </tr>\n",
              "    <tr>\n",
              "      <th>min</th>\n",
              "      <td>12.020000</td>\n",
              "      <td>0.00000</td>\n",
              "      <td>0.000000</td>\n",
              "      <td>1.000000</td>\n",
              "    </tr>\n",
              "    <tr>\n",
              "      <th>25%</th>\n",
              "      <td>24.030000</td>\n",
              "      <td>0.00000</td>\n",
              "      <td>0.000000</td>\n",
              "      <td>6.000000</td>\n",
              "    </tr>\n",
              "    <tr>\n",
              "      <th>50%</th>\n",
              "      <td>27.340000</td>\n",
              "      <td>0.00000</td>\n",
              "      <td>0.000000</td>\n",
              "      <td>7.000000</td>\n",
              "    </tr>\n",
              "    <tr>\n",
              "      <th>75%</th>\n",
              "      <td>31.420000</td>\n",
              "      <td>2.00000</td>\n",
              "      <td>3.000000</td>\n",
              "      <td>8.000000</td>\n",
              "    </tr>\n",
              "    <tr>\n",
              "      <th>max</th>\n",
              "      <td>94.850000</td>\n",
              "      <td>30.00000</td>\n",
              "      <td>30.000000</td>\n",
              "      <td>24.000000</td>\n",
              "    </tr>\n",
              "  </tbody>\n",
              "</table>\n",
              "</div>\n",
              "      <button class=\"colab-df-convert\" onclick=\"convertToInteractive('df-93ad277f-bd48-44a1-96bd-49e636eaf6a8')\"\n",
              "              title=\"Convert this dataframe to an interactive table.\"\n",
              "              style=\"display:none;\">\n",
              "        \n",
              "  <svg xmlns=\"http://www.w3.org/2000/svg\" height=\"24px\"viewBox=\"0 0 24 24\"\n",
              "       width=\"24px\">\n",
              "    <path d=\"M0 0h24v24H0V0z\" fill=\"none\"/>\n",
              "    <path d=\"M18.56 5.44l.94 2.06.94-2.06 2.06-.94-2.06-.94-.94-2.06-.94 2.06-2.06.94zm-11 1L8.5 8.5l.94-2.06 2.06-.94-2.06-.94L8.5 2.5l-.94 2.06-2.06.94zm10 10l.94 2.06.94-2.06 2.06-.94-2.06-.94-.94-2.06-.94 2.06-2.06.94z\"/><path d=\"M17.41 7.96l-1.37-1.37c-.4-.4-.92-.59-1.43-.59-.52 0-1.04.2-1.43.59L10.3 9.45l-7.72 7.72c-.78.78-.78 2.05 0 2.83L4 21.41c.39.39.9.59 1.41.59.51 0 1.02-.2 1.41-.59l7.78-7.78 2.81-2.81c.8-.78.8-2.07 0-2.86zM5.41 20L4 18.59l7.72-7.72 1.47 1.35L5.41 20z\"/>\n",
              "  </svg>\n",
              "      </button>\n",
              "      \n",
              "  <style>\n",
              "    .colab-df-container {\n",
              "      display:flex;\n",
              "      flex-wrap:wrap;\n",
              "      gap: 12px;\n",
              "    }\n",
              "\n",
              "    .colab-df-convert {\n",
              "      background-color: #E8F0FE;\n",
              "      border: none;\n",
              "      border-radius: 50%;\n",
              "      cursor: pointer;\n",
              "      display: none;\n",
              "      fill: #1967D2;\n",
              "      height: 32px;\n",
              "      padding: 0 0 0 0;\n",
              "      width: 32px;\n",
              "    }\n",
              "\n",
              "    .colab-df-convert:hover {\n",
              "      background-color: #E2EBFA;\n",
              "      box-shadow: 0px 1px 2px rgba(60, 64, 67, 0.3), 0px 1px 3px 1px rgba(60, 64, 67, 0.15);\n",
              "      fill: #174EA6;\n",
              "    }\n",
              "\n",
              "    [theme=dark] .colab-df-convert {\n",
              "      background-color: #3B4455;\n",
              "      fill: #D2E3FC;\n",
              "    }\n",
              "\n",
              "    [theme=dark] .colab-df-convert:hover {\n",
              "      background-color: #434B5C;\n",
              "      box-shadow: 0px 1px 3px 1px rgba(0, 0, 0, 0.15);\n",
              "      filter: drop-shadow(0px 1px 2px rgba(0, 0, 0, 0.3));\n",
              "      fill: #FFFFFF;\n",
              "    }\n",
              "  </style>\n",
              "\n",
              "      <script>\n",
              "        const buttonEl =\n",
              "          document.querySelector('#df-93ad277f-bd48-44a1-96bd-49e636eaf6a8 button.colab-df-convert');\n",
              "        buttonEl.style.display =\n",
              "          google.colab.kernel.accessAllowed ? 'block' : 'none';\n",
              "\n",
              "        async function convertToInteractive(key) {\n",
              "          const element = document.querySelector('#df-93ad277f-bd48-44a1-96bd-49e636eaf6a8');\n",
              "          const dataTable =\n",
              "            await google.colab.kernel.invokeFunction('convertToInteractive',\n",
              "                                                     [key], {});\n",
              "          if (!dataTable) return;\n",
              "\n",
              "          const docLinkHtml = 'Like what you see? Visit the ' +\n",
              "            '<a target=\"_blank\" href=https://colab.research.google.com/notebooks/data_table.ipynb>data table notebook</a>'\n",
              "            + ' to learn more about interactive tables.';\n",
              "          element.innerHTML = '';\n",
              "          dataTable['output_type'] = 'display_data';\n",
              "          await google.colab.output.renderOutput(dataTable, element);\n",
              "          const docLink = document.createElement('div');\n",
              "          docLink.innerHTML = docLinkHtml;\n",
              "          element.appendChild(docLink);\n",
              "        }\n",
              "      </script>\n",
              "    </div>\n",
              "  </div>\n",
              "  "
            ]
          },
          "metadata": {},
          "execution_count": 4
        }
      ]
    },
    {
      "cell_type": "code",
      "source": [
        "df.nunique()"
      ],
      "metadata": {
        "colab": {
          "base_uri": "https://localhost:8080/"
        },
        "id": "bh2MFrIOCS6g",
        "outputId": "1aec5264-bf84-4e61-9d6b-1f779064ed05"
      },
      "execution_count": 5,
      "outputs": [
        {
          "output_type": "execute_result",
          "data": {
            "text/plain": [
              "HeartDisease           2\n",
              "BMI                 3604\n",
              "Smoking                2\n",
              "AlcoholDrinking        2\n",
              "Stroke                 2\n",
              "PhysicalHealth        31\n",
              "MentalHealth          31\n",
              "DiffWalking            2\n",
              "Sex                    2\n",
              "AgeCategory           13\n",
              "Race                   6\n",
              "Diabetic               4\n",
              "PhysicalActivity       2\n",
              "GenHealth              5\n",
              "SleepTime             24\n",
              "Asthma                 2\n",
              "KidneyDisease          2\n",
              "SkinCancer             2\n",
              "dtype: int64"
            ]
          },
          "metadata": {},
          "execution_count": 5
        }
      ]
    },
    {
      "cell_type": "markdown",
      "source": [
        "## Exploratory Analysis"
      ],
      "metadata": {
        "id": "_T59aaCqC1ug"
      }
    },
    {
      "cell_type": "code",
      "source": [
        "%matplotlib inline\n",
        "import seaborn as sns\n",
        "import matplotlib.pyplot as plt"
      ],
      "metadata": {
        "id": "X5vUWof3C3z-"
      },
      "execution_count": 6,
      "outputs": []
    },
    {
      "cell_type": "code",
      "source": [
        "plt.figure(figsize = (13,6))\n",
        "sns.countplot( x= df['Race'], hue = 'HeartDisease', data = df, palette = 'YlOrBr')\n",
        "plt.title(\"Distribution of Cases with Yes/No hartdisease according to Race\")\n",
        "plt.xlabel('Race')\n",
        "plt.legend()\n",
        "plt.ylabel('Frequency')\n",
        "plt.show()"
      ],
      "metadata": {
        "colab": {
          "base_uri": "https://localhost:8080/",
          "height": 554
        },
        "id": "NL5sph88C5yl",
        "outputId": "fb0f7034-ba47-4f6c-849e-aeaa01242fbb"
      },
      "execution_count": 16,
      "outputs": [
        {
          "output_type": "display_data",
          "data": {
            "text/plain": [
              "<Figure size 1300x600 with 1 Axes>"
            ],
            "image/png": "[encoded data removed]"
          },
          "metadata": {}
        }
      ]
    },
    {
      "cell_type": "code",
      "source": [
        "plt.figure(figsize = (13,6))\n",
        "sns.countplot(x = df['AgeCategory'], hue = 'HeartDisease', data = df, palette = 'YlOrBr')\n",
        "plt.title(\"Distribution of Cases with Yes/No hartdisease according to AgeCategory\")\n",
        "plt.xlabel('AgeCategory')\n",
        "plt.legend(['Normal','HeartDisease'])\n",
        "plt.ylabel('Frequency')\n",
        "plt.show()"
      ],
      "metadata": {
        "colab": {
          "base_uri": "https://localhost:8080/",
          "height": 559
        },
        "id": "D6TFVhR6C_H_",
        "outputId": "3a71f8e6-0fe6-441e-b718-2986fc1bf700"
      },
      "execution_count": 15,
      "outputs": [
        {
          "output_type": "display_data",
          "data": {
            "text/plain": [
              "<Figure size 1300x600 with 1 Axes>"
            ],
            "image/png": "[encoded data removed]"
          },
          "metadata": {}
        }
      ]
    },
    {
      "cell_type": "markdown",
      "source": [
        "## Preprocessing"
      ],
      "metadata": {
        "id": "g9aFxsPTFPD1"
      }
    },
    {
      "cell_type": "code",
      "source": [
        "from sklearn.preprocessing import LabelEncoder\n",
        "\n",
        "\n",
        "le = LabelEncoder()\n",
        "df['HeartDisease'] = le.fit_transform(df['HeartDisease'])\n",
        "df['Smoking'] = le.fit_transform(df['Smoking'])\n",
        "df['AlcoholDrinking'] = le.fit_transform(df['AlcoholDrinking'])\n",
        "df['Stroke'] = le.fit_transform(df['Stroke'])\n",
        "df['DiffWalking'] = le.fit_transform(df['DiffWalking'])\n",
        "df['Sex'] = le.fit_transform(df['Sex'])\n",
        "df['AgeCategory'] = le.fit_transform(df['AgeCategory'])\n",
        "df['Race'] = le.fit_transform(df['Race'])\n",
        "df['Diabetic'] = le.fit_transform(df['Diabetic'])\n",
        "df['PhysicalActivity'] = le.fit_transform(df['PhysicalActivity'])\n",
        "df['GenHealth'] = le.fit_transform(df['GenHealth'])\n",
        "df['Asthma'] = le.fit_transform(df['Asthma'])\n",
        "df['KidneyDisease'] = le.fit_transform(df['KidneyDisease'])\n",
        "df['SkinCancer'] = le.fit_transform(df['SkinCancer'])"
      ],
      "metadata": {
        "id": "3chK8drhFPkD"
      },
      "execution_count": 21,
      "outputs": []
    },
    {
      "cell_type": "code",
      "source": [
        "# Separate features and target variable\n",
        "X = df.drop(['HeartDisease'], axis=1)\n",
        "y = df['HeartDisease']"
      ],
      "metadata": {
        "id": "5V-ftJ2WHMTW"
      },
      "execution_count": 22,
      "outputs": []
    },
    {
      "cell_type": "code",
      "source": [
        "from xgboost import XGBClassifier\n",
        "from sklearn.model_selection import GridSearchCV\n",
        "import multiprocessing\n",
        "\n",
        "if __name__ == \"__main__\":\n",
        "    print(\"Parallel Parameter optimization\")\n",
        "    xgb_model = XGBClassifier(n_jobs=multiprocessing.cpu_count() // 2)\n",
        "    clf = GridSearchCV(xgb_model, {'max_depth': [1, 2, 4, 6],\n",
        "                                   'n_estimators': [20, 50, 100]}, verbose=1,\n",
        "                       n_jobs=-1, cv=5)\n",
        "    clf.fit(X, y)\n",
        "    print(clf.best_score_)\n",
        "    print(clf.best_params_)"
      ],
      "metadata": {
        "colab": {
          "base_uri": "https://localhost:8080/"
        },
        "id": "G7WHwm0fHVEh",
        "outputId": "88a3003d-d474-4309-d3a0-779bd98adc45"
      },
      "execution_count": null,
      "outputs": [
        {
          "metadata": {
            "tags": null
          },
          "name": "stdout",
          "output_type": "stream",
          "text": [
            "Parallel Parameter optimization\n",
            "Fitting 5 folds for each of 12 candidates, totalling 60 fits\n"
          ]
        }
      ]
    },
    {
      "cell_type": "markdown",
      "source": [
        "The above takes too long to run so I will try doing other things"
      ],
      "metadata": {
        "id": "mUOQzW72V776"
      }
    },
    {
      "cell_type": "markdown",
      "source": [
        "*Note:* To address the imbalance of the response variable, I will use the metric ROC AUC to balanace accuracy, percision, and recall of the models. If we were to just always guess no heart disease for every observation we could expect an accuracy rate of approximately 91% depending on the sample."
      ],
      "metadata": {
        "id": "dWSB3gN3tiJZ"
      }
    },
    {
      "cell_type": "markdown",
      "source": [
        "**Model 1: XGBoost**"
      ],
      "metadata": {
        "id": "YgIUkrXRWDMm"
      }
    },
    {
      "cell_type": "code",
      "source": [
        "from xgboost import XGBClassifier\n",
        "from numpy import mean\n",
        "from numpy import std\n",
        "from sklearn.datasets import make_classification\n",
        "from sklearn.model_selection import cross_val_score\n",
        "from sklearn.model_selection import RepeatedStratifiedKFold\n",
        "\n",
        "# define the model\n",
        "model = XGBClassifier()\n",
        "# define the evaluation method\n",
        "cv = RepeatedStratifiedKFold(n_splits=5, n_repeats=2, random_state=1)\n",
        "# evaluate the model on the dataset\n",
        "n_scores = cross_val_score(model, X, y, scoring='roc_auc', cv=cv, n_jobs=-1)\n",
        "# report performance\n",
        "print('ROC Area Under Curve: %.3f (%.3f)' % (mean(n_scores), std(n_scores)))"
      ],
      "metadata": {
        "colab": {
          "base_uri": "https://localhost:8080/"
        },
        "id": "eOxVGMNwJKD0",
        "outputId": "4d23d266-c79b-41a4-ad21-e890fcb865ec"
      },
      "execution_count": 49,
      "outputs": [
        {
          "output_type": "stream",
          "name": "stdout",
          "text": [
            "ROC Area Under Curve: 0.840 (0.002)\n"
          ]
        }
      ]
    },
    {
      "cell_type": "markdown",
      "source": [
        "This model also had an acuracy rate of .916 which was tied for the highest of the three models explored. Since it took so long to run I did not rerun it but wrote it down, just change the scoring method back to accuracy if wanted."
      ],
      "metadata": {
        "id": "tiEW6mR0rZHC"
      }
    },
    {
      "cell_type": "markdown",
      "source": [
        "**Model 2: Gradient Boost**"
      ],
      "metadata": {
        "id": "yliyrxxTWIlP"
      }
    },
    {
      "cell_type": "code",
      "source": [
        "from sklearn.ensemble import GradientBoostingClassifier\n",
        "\n",
        "# define the model\n",
        "model = GradientBoostingClassifier()\n",
        "# define the evaluation method\n",
        "cv = RepeatedStratifiedKFold(n_splits=4, n_repeats=2, random_state=1)\n",
        "# evaluate the model on the dataset\n",
        "n_scores = cross_val_score(model, X, y, scoring='roc_auc', cv=cv, n_jobs=-1)\n",
        "# report performance\n",
        "print('ROC Area Under Curve: %.3f (%.3f)' % (mean(n_scores), std(n_scores)))"
      ],
      "metadata": {
        "colab": {
          "base_uri": "https://localhost:8080/"
        },
        "id": "MJ3CilGlWHe7",
        "outputId": "74c9aecf-4e60-4a05-9607-fcb8cc75e89d"
      },
      "execution_count": 50,
      "outputs": [
        {
          "output_type": "stream",
          "name": "stdout",
          "text": [
            "ROC Area Under Curve: 0.842 (0.001)\n"
          ]
        }
      ]
    },
    {
      "cell_type": "markdown",
      "source": [
        "This model, has a higher AUC than the first model by .002"
      ],
      "metadata": {
        "id": "mh2hR70NsAGm"
      }
    },
    {
      "cell_type": "markdown",
      "source": [
        "This model also had an acuracy rate of .916 which was tied with the previous model."
      ],
      "metadata": {
        "id": "h4OSGT4XrgY5"
      }
    },
    {
      "cell_type": "markdown",
      "source": [
        "**Model 3: AdaBoost**"
      ],
      "metadata": {
        "id": "4VA-6vDBX-RA"
      }
    },
    {
      "cell_type": "code",
      "source": [
        "from sklearn.ensemble import AdaBoostClassifier\n",
        "\n",
        "model = AdaBoostClassifier(n_estimators=3, algorithm=\"SAMME\",\n",
        "                              random_state=0)\n",
        "cross_val_score(model,X,y,scoring=\"roc_auc\",cv=5).mean()"
      ],
      "metadata": {
        "colab": {
          "base_uri": "https://localhost:8080/"
        },
        "id": "T8Y2wwJLX92Q",
        "outputId": "a4f0fb81-c6e3-44e4-c75e-9fea2ad0c7e3"
      },
      "execution_count": 51,
      "outputs": [
        {
          "output_type": "execute_result",
          "data": {
            "text/plain": [
              "0.7327562136620154"
            ]
          },
          "metadata": {},
          "execution_count": 51
        }
      ]
    },
    {
      "cell_type": "markdown",
      "source": [
        "This model has the lowest of the three in terms of AUC, it also had a slightly smaller accuracy than the other two. This could be due to the sampling or other tweaked factors"
      ],
      "metadata": {
        "id": "I4Xrq-N7sazx"
      }
    },
    {
      "cell_type": "markdown",
      "source": [
        "## Important Variables"
      ],
      "metadata": {
        "id": "DJ0tkw-7f1dG"
      }
    },
    {
      "cell_type": "code",
      "source": [
        "from sklearn import tree\n",
        "from sklearn.tree import DecisionTreeClassifier\n",
        "import matplotlib.pyplot as plt\n",
        "\n",
        "features = ['BMI', 'Smoking', 'AlcoholDrinking', 'Stroke', 'PhysicalHealth', 'MentalHealth', 'DiffWalking', 'Sex', 'AgeCategory', 'Race',\n",
        "            'Diabetic', 'PhyicalActivity', 'GenHealth', 'SleepTime', 'Asthma', 'KidneyDisease', 'SkinCancer']\n",
        "\n",
        "dtree = DecisionTreeClassifier(max_depth = 2)\n",
        "dtree = dtree.fit(X, y)\n",
        "\n",
        "tree.plot_tree(dtree,feature_names=features)"
      ],
      "metadata": {
        "colab": {
          "base_uri": "https://localhost:8080/",
          "height": 531
        },
        "id": "WcVn65f7f32N",
        "outputId": "e2dbf31d-82dc-422d-f59d-e2e0fb00b543"
      },
      "execution_count": 45,
      "outputs": [
        {
          "output_type": "execute_result",
          "data": {
            "text/plain": [
              "[Text(0.5, 0.8333333333333334, 'AgeCategory <= 7.5\\ngini = 0.157\\nsamples = 319795\\nvalue = [292422, 27373]'),\n",
              " Text(0.25, 0.5, 'Stroke <= 0.5\\ngini = 0.062\\nsamples = 175258\\nvalue = [169658, 5600]'),\n",
              " Text(0.125, 0.16666666666666666, 'gini = 0.053\\nsamples = 172276\\nvalue = [167572, 4704]'),\n",
              " Text(0.375, 0.16666666666666666, 'gini = 0.42\\nsamples = 2982\\nvalue = [2086, 896]'),\n",
              " Text(0.75, 0.5, 'Stroke <= 0.5\\ngini = 0.256\\nsamples = 144537\\nvalue = [122764, 21773]'),\n",
              " Text(0.625, 0.16666666666666666, 'gini = 0.233\\nsamples = 135450\\nvalue = [117170, 18280]'),\n",
              " Text(0.875, 0.16666666666666666, 'gini = 0.473\\nsamples = 9087\\nvalue = [5594, 3493]')]"
            ]
          },
          "metadata": {},
          "execution_count": 45
        },
        {
          "output_type": "display_data",
          "data": {
            "text/plain": [
              "<Figure size 640x480 with 1 Axes>"
            ],
            "image/png": "[encoded data removed]"
          },
          "metadata": {}
        }
      ]
    },
    {
      "cell_type": "code",
      "source": [
        "le_name_mapping = dict(zip(le.classes_, le.transform(le.classes_)))\n",
        "print(le_name_mapping)"
      ],
      "metadata": {
        "colab": {
          "base_uri": "https://localhost:8080/"
        },
        "id": "vifYC9CRnKRt",
        "outputId": "cf0b1008-9b54-4015-cb18-5238cf73bb74"
      },
      "execution_count": 47,
      "outputs": [
        {
          "output_type": "stream",
          "name": "stdout",
          "text": [
            "{'No': 0, 'Yes': 1}\n"
          ]
        }
      ]
    },
    {
      "cell_type": "markdown",
      "source": [
        "With the code above I am trying to figure out how to re-map the label encoded columns to see which age categories are 7 or less and which are more than 7 to understand where the age cutoff is.\n",
        "\n",
        "Regardless, we can take away from this simple tree that age is the most significant variable to determine if someone has heart disease, followed by if they had a stroke."
      ],
      "metadata": {
        "id": "Rr7FgndUsxHO"
      }
    }
  ]
}