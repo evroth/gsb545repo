{
  "nbformat": 4,
  "nbformat_minor": 0,
  "metadata": {
    "colab": {
      "provenance": [],
      "authorship_tag": "ABX9TyMAmdXP5a+/QkOiQUnDHilx",
      "include_colab_link": true
    },
    "kernelspec": {
      "name": "python3",
      "display_name": "Python 3"
    },
    "language_info": {
      "name": "python"
    }
  },
  "cells": [
    {
      "cell_type": "markdown",
      "metadata": {
        "id": "view-in-github",
        "colab_type": "text"
      },
      "source": [
        "<a href=\"https://colab.research.google.com/github/evroth/gsb545repo/blob/main/Loan_Default_Deep_Learning.ipynb\" target=\"_parent\"><img src=\"https://colab.research.google.com/assets/colab-badge.svg\" alt=\"Open In Colab\"/></a>"
      ]
    },
    {
      "cell_type": "markdown",
      "source": [
        "# Loan Default\n",
        "\n",
        "Levergage deep learning to build an inference model to make predictions on dictionaries of raw feature values. Leveraging FeatureSpace to index, preprocess, and encode the feature variables.\n",
        "\n",
        "This project will walk through an example of structured data classification, modeled from https://keras.io/examples/structured_data/structured_data_classification_with_feature_space/ : \"Structured Data Classification with FeatureSpace\"."
      ],
      "metadata": {
        "id": "qX26epCQlGHD"
      }
    },
    {
      "cell_type": "markdown",
      "source": [
        "## Libraries"
      ],
      "metadata": {
        "id": "xSbOokoys-3P"
      }
    },
    {
      "cell_type": "code",
      "source": [
        "import tensorflow as tf\n",
        "import pandas as pd\n",
        "from tensorflow import keras\n",
        "from keras.utils import FeatureSpace"
      ],
      "metadata": {
        "id": "BlNwyMm6sVV8"
      },
      "execution_count": 101,
      "outputs": []
    },
    {
      "cell_type": "markdown",
      "source": [
        "## Read in the Data"
      ],
      "metadata": {
        "id": "lpxinCzjtAol"
      }
    },
    {
      "cell_type": "markdown",
      "source": [
        "The dataset is enormous & consists of multiple deteministic factors like borrowe's income, gender, loan pupose etc. The dataset is subject to strong multicollinearity & empty values. Each row is a loan that was given out. There are many variables included in this file, but we will select only a dozen or so that are most accessible and relevant to someone giving out a loan so they can detect fraud."
      ],
      "metadata": {
        "id": "946UyV9jtuks"
      }
    },
    {
      "cell_type": "code",
      "source": [
        "df = pd.read_csv(\"Loan_Default.csv\")"
      ],
      "metadata": {
        "id": "LENEUb0EsrUE"
      },
      "execution_count": 102,
      "outputs": []
    },
    {
      "cell_type": "code",
      "source": [
        "df.head()"
      ],
      "metadata": {
        "colab": {
          "base_uri": "https://localhost:8080/",
          "height": 404
        },
        "id": "h50XwBk5uBpf",
        "outputId": "b3056b33-d2eb-4da2-d6c9-e749f371aadf"
      },
      "execution_count": 103,
      "outputs": [
        {
          "output_type": "execute_result",
          "data": {
            "text/plain": [
              "      ID  year loan_limit             Gender approv_in_adv loan_type  \\\n",
              "0  24890  2019         cf  Sex Not Available         nopre     type1   \n",
              "1  24891  2019         cf               Male         nopre     type2   \n",
              "2  24892  2019         cf               Male           pre     type1   \n",
              "3  24893  2019         cf               Male         nopre     type1   \n",
              "4  24894  2019         cf              Joint           pre     type1   \n",
              "\n",
              "  loan_purpose Credit_Worthiness open_credit business_or_commercial  ...  \\\n",
              "0           p1                l1        nopc                  nob/c  ...   \n",
              "1           p1                l1        nopc                    b/c  ...   \n",
              "2           p1                l1        nopc                  nob/c  ...   \n",
              "3           p4                l1        nopc                  nob/c  ...   \n",
              "4           p1                l1        nopc                  nob/c  ...   \n",
              "\n",
              "   credit_type  Credit_Score  co-applicant_credit_type    age  \\\n",
              "0          EXP           758                       CIB  25-34   \n",
              "1         EQUI           552                       EXP  55-64   \n",
              "2          EXP           834                       CIB  35-44   \n",
              "3          EXP           587                       CIB  45-54   \n",
              "4         CRIF           602                       EXP  25-34   \n",
              "\n",
              "   submission_of_application        LTV Region Security_Type  Status dtir1  \n",
              "0                    to_inst  98.728814  south        direct       1  45.0  \n",
              "1                    to_inst        NaN  North        direct       1   NaN  \n",
              "2                    to_inst  80.019685  south        direct       0  46.0  \n",
              "3                   not_inst  69.376900  North        direct       0  42.0  \n",
              "4                   not_inst  91.886544  North        direct       0  39.0  \n",
              "\n",
              "[5 rows x 34 columns]"
            ],
            "text/html": [
              "\n",
              "  <div id=\"df-34af5f16-413b-4a9c-94f2-860633c64144\">\n",
              "    <div class=\"colab-df-container\">\n",
              "      <div>\n",
              "<style scoped>\n",
              "    .dataframe tbody tr th:only-of-type {\n",
              "        vertical-align: middle;\n",
              "    }\n",
              "\n",
              "    .dataframe tbody tr th {\n",
              "        vertical-align: top;\n",
              "    }\n",
              "\n",
              "    .dataframe thead th {\n",
              "        text-align: right;\n",
              "    }\n",
              "</style>\n",
              "<table border=\"1\" class=\"dataframe\">\n",
              "  <thead>\n",
              "    <tr style=\"text-align: right;\">\n",
              "      <th></th>\n",
              "      <th>ID</th>\n",
              "      <th>year</th>\n",
              "      <th>loan_limit</th>\n",
              "      <th>Gender</th>\n",
              "      <th>approv_in_adv</th>\n",
              "      <th>loan_type</th>\n",
              "      <th>loan_purpose</th>\n",
              "      <th>Credit_Worthiness</th>\n",
              "      <th>open_credit</th>\n",
              "      <th>business_or_commercial</th>\n",
              "      <th>...</th>\n",
              "      <th>credit_type</th>\n",
              "      <th>Credit_Score</th>\n",
              "      <th>co-applicant_credit_type</th>\n",
              "      <th>age</th>\n",
              "      <th>submission_of_application</th>\n",
              "      <th>LTV</th>\n",
              "      <th>Region</th>\n",
              "      <th>Security_Type</th>\n",
              "      <th>Status</th>\n",
              "      <th>dtir1</th>\n",
              "    </tr>\n",
              "  </thead>\n",
              "  <tbody>\n",
              "    <tr>\n",
              "      <th>0</th>\n",
              "      <td>24890</td>\n",
              "      <td>2019</td>\n",
              "      <td>cf</td>\n",
              "      <td>Sex Not Available</td>\n",
              "      <td>nopre</td>\n",
              "      <td>type1</td>\n",
              "      <td>p1</td>\n",
              "      <td>l1</td>\n",
              "      <td>nopc</td>\n",
              "      <td>nob/c</td>\n",
              "      <td>...</td>\n",
              "      <td>EXP</td>\n",
              "      <td>758</td>\n",
              "      <td>CIB</td>\n",
              "      <td>25-34</td>\n",
              "      <td>to_inst</td>\n",
              "      <td>98.728814</td>\n",
              "      <td>south</td>\n",
              "      <td>direct</td>\n",
              "      <td>1</td>\n",
              "      <td>45.0</td>\n",
              "    </tr>\n",
              "    <tr>\n",
              "      <th>1</th>\n",
              "      <td>24891</td>\n",
              "      <td>2019</td>\n",
              "      <td>cf</td>\n",
              "      <td>Male</td>\n",
              "      <td>nopre</td>\n",
              "      <td>type2</td>\n",
              "      <td>p1</td>\n",
              "      <td>l1</td>\n",
              "      <td>nopc</td>\n",
              "      <td>b/c</td>\n",
              "      <td>...</td>\n",
              "      <td>EQUI</td>\n",
              "      <td>552</td>\n",
              "      <td>EXP</td>\n",
              "      <td>55-64</td>\n",
              "      <td>to_inst</td>\n",
              "      <td>NaN</td>\n",
              "      <td>North</td>\n",
              "      <td>direct</td>\n",
              "      <td>1</td>\n",
              "      <td>NaN</td>\n",
              "    </tr>\n",
              "    <tr>\n",
              "      <th>2</th>\n",
              "      <td>24892</td>\n",
              "      <td>2019</td>\n",
              "      <td>cf</td>\n",
              "      <td>Male</td>\n",
              "      <td>pre</td>\n",
              "      <td>type1</td>\n",
              "      <td>p1</td>\n",
              "      <td>l1</td>\n",
              "      <td>nopc</td>\n",
              "      <td>nob/c</td>\n",
              "      <td>...</td>\n",
              "      <td>EXP</td>\n",
              "      <td>834</td>\n",
              "      <td>CIB</td>\n",
              "      <td>35-44</td>\n",
              "      <td>to_inst</td>\n",
              "      <td>80.019685</td>\n",
              "      <td>south</td>\n",
              "      <td>direct</td>\n",
              "      <td>0</td>\n",
              "      <td>46.0</td>\n",
              "    </tr>\n",
              "    <tr>\n",
              "      <th>3</th>\n",
              "      <td>24893</td>\n",
              "      <td>2019</td>\n",
              "      <td>cf</td>\n",
              "      <td>Male</td>\n",
              "      <td>nopre</td>\n",
              "      <td>type1</td>\n",
              "      <td>p4</td>\n",
              "      <td>l1</td>\n",
              "      <td>nopc</td>\n",
              "      <td>nob/c</td>\n",
              "      <td>...</td>\n",
              "      <td>EXP</td>\n",
              "      <td>587</td>\n",
              "      <td>CIB</td>\n",
              "      <td>45-54</td>\n",
              "      <td>not_inst</td>\n",
              "      <td>69.376900</td>\n",
              "      <td>North</td>\n",
              "      <td>direct</td>\n",
              "      <td>0</td>\n",
              "      <td>42.0</td>\n",
              "    </tr>\n",
              "    <tr>\n",
              "      <th>4</th>\n",
              "      <td>24894</td>\n",
              "      <td>2019</td>\n",
              "      <td>cf</td>\n",
              "      <td>Joint</td>\n",
              "      <td>pre</td>\n",
              "      <td>type1</td>\n",
              "      <td>p1</td>\n",
              "      <td>l1</td>\n",
              "      <td>nopc</td>\n",
              "      <td>nob/c</td>\n",
              "      <td>...</td>\n",
              "      <td>CRIF</td>\n",
              "      <td>602</td>\n",
              "      <td>EXP</td>\n",
              "      <td>25-34</td>\n",
              "      <td>not_inst</td>\n",
              "      <td>91.886544</td>\n",
              "      <td>North</td>\n",
              "      <td>direct</td>\n",
              "      <td>0</td>\n",
              "      <td>39.0</td>\n",
              "    </tr>\n",
              "  </tbody>\n",
              "</table>\n",
              "<p>5 rows × 34 columns</p>\n",
              "</div>\n",
              "      <button class=\"colab-df-convert\" onclick=\"convertToInteractive('df-34af5f16-413b-4a9c-94f2-860633c64144')\"\n",
              "              title=\"Convert this dataframe to an interactive table.\"\n",
              "              style=\"display:none;\">\n",
              "        \n",
              "  <svg xmlns=\"http://www.w3.org/2000/svg\" height=\"24px\"viewBox=\"0 0 24 24\"\n",
              "       width=\"24px\">\n",
              "    <path d=\"M0 0h24v24H0V0z\" fill=\"none\"/>\n",
              "    <path d=\"M18.56 5.44l.94 2.06.94-2.06 2.06-.94-2.06-.94-.94-2.06-.94 2.06-2.06.94zm-11 1L8.5 8.5l.94-2.06 2.06-.94-2.06-.94L8.5 2.5l-.94 2.06-2.06.94zm10 10l.94 2.06.94-2.06 2.06-.94-2.06-.94-.94-2.06-.94 2.06-2.06.94z\"/><path d=\"M17.41 7.96l-1.37-1.37c-.4-.4-.92-.59-1.43-.59-.52 0-1.04.2-1.43.59L10.3 9.45l-7.72 7.72c-.78.78-.78 2.05 0 2.83L4 21.41c.39.39.9.59 1.41.59.51 0 1.02-.2 1.41-.59l7.78-7.78 2.81-2.81c.8-.78.8-2.07 0-2.86zM5.41 20L4 18.59l7.72-7.72 1.47 1.35L5.41 20z\"/>\n",
              "  </svg>\n",
              "      </button>\n",
              "      \n",
              "  <style>\n",
              "    .colab-df-container {\n",
              "      display:flex;\n",
              "      flex-wrap:wrap;\n",
              "      gap: 12px;\n",
              "    }\n",
              "\n",
              "    .colab-df-convert {\n",
              "      background-color: #E8F0FE;\n",
              "      border: none;\n",
              "      border-radius: 50%;\n",
              "      cursor: pointer;\n",
              "      display: none;\n",
              "      fill: #1967D2;\n",
              "      height: 32px;\n",
              "      padding: 0 0 0 0;\n",
              "      width: 32px;\n",
              "    }\n",
              "\n",
              "    .colab-df-convert:hover {\n",
              "      background-color: #E2EBFA;\n",
              "      box-shadow: 0px 1px 2px rgba(60, 64, 67, 0.3), 0px 1px 3px 1px rgba(60, 64, 67, 0.15);\n",
              "      fill: #174EA6;\n",
              "    }\n",
              "\n",
              "    [theme=dark] .colab-df-convert {\n",
              "      background-color: #3B4455;\n",
              "      fill: #D2E3FC;\n",
              "    }\n",
              "\n",
              "    [theme=dark] .colab-df-convert:hover {\n",
              "      background-color: #434B5C;\n",
              "      box-shadow: 0px 1px 3px 1px rgba(0, 0, 0, 0.15);\n",
              "      filter: drop-shadow(0px 1px 2px rgba(0, 0, 0, 0.3));\n",
              "      fill: #FFFFFF;\n",
              "    }\n",
              "  </style>\n",
              "\n",
              "      <script>\n",
              "        const buttonEl =\n",
              "          document.querySelector('#df-34af5f16-413b-4a9c-94f2-860633c64144 button.colab-df-convert');\n",
              "        buttonEl.style.display =\n",
              "          google.colab.kernel.accessAllowed ? 'block' : 'none';\n",
              "\n",
              "        async function convertToInteractive(key) {\n",
              "          const element = document.querySelector('#df-34af5f16-413b-4a9c-94f2-860633c64144');\n",
              "          const dataTable =\n",
              "            await google.colab.kernel.invokeFunction('convertToInteractive',\n",
              "                                                     [key], {});\n",
              "          if (!dataTable) return;\n",
              "\n",
              "          const docLinkHtml = 'Like what you see? Visit the ' +\n",
              "            '<a target=\"_blank\" href=https://colab.research.google.com/notebooks/data_table.ipynb>data table notebook</a>'\n",
              "            + ' to learn more about interactive tables.';\n",
              "          element.innerHTML = '';\n",
              "          dataTable['output_type'] = 'display_data';\n",
              "          await google.colab.output.renderOutput(dataTable, element);\n",
              "          const docLink = document.createElement('div');\n",
              "          docLink.innerHTML = docLinkHtml;\n",
              "          element.appendChild(docLink);\n",
              "        }\n",
              "      </script>\n",
              "    </div>\n",
              "  </div>\n",
              "  "
            ]
          },
          "metadata": {},
          "execution_count": 103
        }
      ]
    },
    {
      "cell_type": "code",
      "source": [
        "df.dtypes"
      ],
      "metadata": {
        "colab": {
          "base_uri": "https://localhost:8080/"
        },
        "id": "6kh7idd3uT67",
        "outputId": "4ac3efdd-153d-4406-d2e5-01be826e163f"
      },
      "execution_count": 104,
      "outputs": [
        {
          "output_type": "execute_result",
          "data": {
            "text/plain": [
              "ID                             int64\n",
              "year                           int64\n",
              "loan_limit                    object\n",
              "Gender                        object\n",
              "approv_in_adv                 object\n",
              "loan_type                     object\n",
              "loan_purpose                  object\n",
              "Credit_Worthiness             object\n",
              "open_credit                   object\n",
              "business_or_commercial        object\n",
              "loan_amount                    int64\n",
              "rate_of_interest             float64\n",
              "Interest_rate_spread         float64\n",
              "Upfront_charges              float64\n",
              "term                         float64\n",
              "Neg_ammortization             object\n",
              "interest_only                 object\n",
              "lump_sum_payment              object\n",
              "property_value               float64\n",
              "construction_type             object\n",
              "occupancy_type                object\n",
              "Secured_by                    object\n",
              "total_units                   object\n",
              "income                       float64\n",
              "credit_type                   object\n",
              "Credit_Score                   int64\n",
              "co-applicant_credit_type      object\n",
              "age                           object\n",
              "submission_of_application     object\n",
              "LTV                          float64\n",
              "Region                        object\n",
              "Security_Type                 object\n",
              "Status                         int64\n",
              "dtir1                        float64\n",
              "dtype: object"
            ]
          },
          "metadata": {},
          "execution_count": 104
        }
      ]
    },
    {
      "cell_type": "markdown",
      "source": [
        "Select only the variables of interest that we want. Again the purpose here of this activity is to utilize FeatureSpace."
      ],
      "metadata": {
        "id": "SNux-YnpvFXF"
      }
    },
    {
      "cell_type": "code",
      "source": [
        "df = selected_columns = df[['loan_limit','Gender','approv_in_adv','loan_type','loan_purpose','business_or_commercial',\n",
        "                                  'loan_amount','term','property_value','credit_type','Credit_Score',\n",
        "                                  'age','submission_of_application','Region','Status']]"
      ],
      "metadata": {
        "id": "HsUaKp10wBm8"
      },
      "execution_count": 105,
      "outputs": []
    },
    {
      "cell_type": "code",
      "source": [
        "df.describe()"
      ],
      "metadata": {
        "colab": {
          "base_uri": "https://localhost:8080/",
          "height": 300
        },
        "id": "sEr6NyZLyo4p",
        "outputId": "3cb14078-5409-4fe6-af32-a67c1d074e9f"
      },
      "execution_count": 106,
      "outputs": [
        {
          "output_type": "execute_result",
          "data": {
            "text/plain": [
              "        loan_amount           term  property_value   Credit_Score  \\\n",
              "count  1.486700e+05  148629.000000    1.335720e+05  148670.000000   \n",
              "mean   3.311177e+05     335.136582    4.978935e+05     699.789103   \n",
              "std    1.839093e+05      58.409084    3.599353e+05     115.875857   \n",
              "min    1.650000e+04      96.000000    8.000000e+03     500.000000   \n",
              "25%    1.965000e+05     360.000000    2.680000e+05     599.000000   \n",
              "50%    2.965000e+05     360.000000    4.180000e+05     699.000000   \n",
              "75%    4.365000e+05     360.000000    6.280000e+05     800.000000   \n",
              "max    3.576500e+06     360.000000    1.650800e+07     900.000000   \n",
              "\n",
              "              Status  \n",
              "count  148670.000000  \n",
              "mean        0.246445  \n",
              "std         0.430942  \n",
              "min         0.000000  \n",
              "25%         0.000000  \n",
              "50%         0.000000  \n",
              "75%         0.000000  \n",
              "max         1.000000  "
            ],
            "text/html": [
              "\n",
              "  <div id=\"df-19761e31-b33c-4e82-b8b9-1de6014882eb\">\n",
              "    <div class=\"colab-df-container\">\n",
              "      <div>\n",
              "<style scoped>\n",
              "    .dataframe tbody tr th:only-of-type {\n",
              "        vertical-align: middle;\n",
              "    }\n",
              "\n",
              "    .dataframe tbody tr th {\n",
              "        vertical-align: top;\n",
              "    }\n",
              "\n",
              "    .dataframe thead th {\n",
              "        text-align: right;\n",
              "    }\n",
              "</style>\n",
              "<table border=\"1\" class=\"dataframe\">\n",
              "  <thead>\n",
              "    <tr style=\"text-align: right;\">\n",
              "      <th></th>\n",
              "      <th>loan_amount</th>\n",
              "      <th>term</th>\n",
              "      <th>property_value</th>\n",
              "      <th>Credit_Score</th>\n",
              "      <th>Status</th>\n",
              "    </tr>\n",
              "  </thead>\n",
              "  <tbody>\n",
              "    <tr>\n",
              "      <th>count</th>\n",
              "      <td>1.486700e+05</td>\n",
              "      <td>148629.000000</td>\n",
              "      <td>1.335720e+05</td>\n",
              "      <td>148670.000000</td>\n",
              "      <td>148670.000000</td>\n",
              "    </tr>\n",
              "    <tr>\n",
              "      <th>mean</th>\n",
              "      <td>3.311177e+05</td>\n",
              "      <td>335.136582</td>\n",
              "      <td>4.978935e+05</td>\n",
              "      <td>699.789103</td>\n",
              "      <td>0.246445</td>\n",
              "    </tr>\n",
              "    <tr>\n",
              "      <th>std</th>\n",
              "      <td>1.839093e+05</td>\n",
              "      <td>58.409084</td>\n",
              "      <td>3.599353e+05</td>\n",
              "      <td>115.875857</td>\n",
              "      <td>0.430942</td>\n",
              "    </tr>\n",
              "    <tr>\n",
              "      <th>min</th>\n",
              "      <td>1.650000e+04</td>\n",
              "      <td>96.000000</td>\n",
              "      <td>8.000000e+03</td>\n",
              "      <td>500.000000</td>\n",
              "      <td>0.000000</td>\n",
              "    </tr>\n",
              "    <tr>\n",
              "      <th>25%</th>\n",
              "      <td>1.965000e+05</td>\n",
              "      <td>360.000000</td>\n",
              "      <td>2.680000e+05</td>\n",
              "      <td>599.000000</td>\n",
              "      <td>0.000000</td>\n",
              "    </tr>\n",
              "    <tr>\n",
              "      <th>50%</th>\n",
              "      <td>2.965000e+05</td>\n",
              "      <td>360.000000</td>\n",
              "      <td>4.180000e+05</td>\n",
              "      <td>699.000000</td>\n",
              "      <td>0.000000</td>\n",
              "    </tr>\n",
              "    <tr>\n",
              "      <th>75%</th>\n",
              "      <td>4.365000e+05</td>\n",
              "      <td>360.000000</td>\n",
              "      <td>6.280000e+05</td>\n",
              "      <td>800.000000</td>\n",
              "      <td>0.000000</td>\n",
              "    </tr>\n",
              "    <tr>\n",
              "      <th>max</th>\n",
              "      <td>3.576500e+06</td>\n",
              "      <td>360.000000</td>\n",
              "      <td>1.650800e+07</td>\n",
              "      <td>900.000000</td>\n",
              "      <td>1.000000</td>\n",
              "    </tr>\n",
              "  </tbody>\n",
              "</table>\n",
              "</div>\n",
              "      <button class=\"colab-df-convert\" onclick=\"convertToInteractive('df-19761e31-b33c-4e82-b8b9-1de6014882eb')\"\n",
              "              title=\"Convert this dataframe to an interactive table.\"\n",
              "              style=\"display:none;\">\n",
              "        \n",
              "  <svg xmlns=\"http://www.w3.org/2000/svg\" height=\"24px\"viewBox=\"0 0 24 24\"\n",
              "       width=\"24px\">\n",
              "    <path d=\"M0 0h24v24H0V0z\" fill=\"none\"/>\n",
              "    <path d=\"M18.56 5.44l.94 2.06.94-2.06 2.06-.94-2.06-.94-.94-2.06-.94 2.06-2.06.94zm-11 1L8.5 8.5l.94-2.06 2.06-.94-2.06-.94L8.5 2.5l-.94 2.06-2.06.94zm10 10l.94 2.06.94-2.06 2.06-.94-2.06-.94-.94-2.06-.94 2.06-2.06.94z\"/><path d=\"M17.41 7.96l-1.37-1.37c-.4-.4-.92-.59-1.43-.59-.52 0-1.04.2-1.43.59L10.3 9.45l-7.72 7.72c-.78.78-.78 2.05 0 2.83L4 21.41c.39.39.9.59 1.41.59.51 0 1.02-.2 1.41-.59l7.78-7.78 2.81-2.81c.8-.78.8-2.07 0-2.86zM5.41 20L4 18.59l7.72-7.72 1.47 1.35L5.41 20z\"/>\n",
              "  </svg>\n",
              "      </button>\n",
              "      \n",
              "  <style>\n",
              "    .colab-df-container {\n",
              "      display:flex;\n",
              "      flex-wrap:wrap;\n",
              "      gap: 12px;\n",
              "    }\n",
              "\n",
              "    .colab-df-convert {\n",
              "      background-color: #E8F0FE;\n",
              "      border: none;\n",
              "      border-radius: 50%;\n",
              "      cursor: pointer;\n",
              "      display: none;\n",
              "      fill: #1967D2;\n",
              "      height: 32px;\n",
              "      padding: 0 0 0 0;\n",
              "      width: 32px;\n",
              "    }\n",
              "\n",
              "    .colab-df-convert:hover {\n",
              "      background-color: #E2EBFA;\n",
              "      box-shadow: 0px 1px 2px rgba(60, 64, 67, 0.3), 0px 1px 3px 1px rgba(60, 64, 67, 0.15);\n",
              "      fill: #174EA6;\n",
              "    }\n",
              "\n",
              "    [theme=dark] .colab-df-convert {\n",
              "      background-color: #3B4455;\n",
              "      fill: #D2E3FC;\n",
              "    }\n",
              "\n",
              "    [theme=dark] .colab-df-convert:hover {\n",
              "      background-color: #434B5C;\n",
              "      box-shadow: 0px 1px 3px 1px rgba(0, 0, 0, 0.15);\n",
              "      filter: drop-shadow(0px 1px 2px rgba(0, 0, 0, 0.3));\n",
              "      fill: #FFFFFF;\n",
              "    }\n",
              "  </style>\n",
              "\n",
              "      <script>\n",
              "        const buttonEl =\n",
              "          document.querySelector('#df-19761e31-b33c-4e82-b8b9-1de6014882eb button.colab-df-convert');\n",
              "        buttonEl.style.display =\n",
              "          google.colab.kernel.accessAllowed ? 'block' : 'none';\n",
              "\n",
              "        async function convertToInteractive(key) {\n",
              "          const element = document.querySelector('#df-19761e31-b33c-4e82-b8b9-1de6014882eb');\n",
              "          const dataTable =\n",
              "            await google.colab.kernel.invokeFunction('convertToInteractive',\n",
              "                                                     [key], {});\n",
              "          if (!dataTable) return;\n",
              "\n",
              "          const docLinkHtml = 'Like what you see? Visit the ' +\n",
              "            '<a target=\"_blank\" href=https://colab.research.google.com/notebooks/data_table.ipynb>data table notebook</a>'\n",
              "            + ' to learn more about interactive tables.';\n",
              "          element.innerHTML = '';\n",
              "          dataTable['output_type'] = 'display_data';\n",
              "          await google.colab.output.renderOutput(dataTable, element);\n",
              "          const docLink = document.createElement('div');\n",
              "          docLink.innerHTML = docLinkHtml;\n",
              "          element.appendChild(docLink);\n",
              "        }\n",
              "      </script>\n",
              "    </div>\n",
              "  </div>\n",
              "  "
            ]
          },
          "metadata": {},
          "execution_count": 106
        }
      ]
    },
    {
      "cell_type": "code",
      "source": [
        "df = df.dropna()"
      ],
      "metadata": {
        "id": "gZbm7aJfDMhP"
      },
      "execution_count": 107,
      "outputs": []
    },
    {
      "cell_type": "code",
      "source": [
        "df.describe()"
      ],
      "metadata": {
        "colab": {
          "base_uri": "https://localhost:8080/",
          "height": 300
        },
        "id": "MSvB_TEpEnni",
        "outputId": "61bc313d-bcf5-403f-fbe7-cfe5df1754f4"
      },
      "execution_count": 121,
      "outputs": [
        {
          "output_type": "execute_result",
          "data": {
            "text/plain": [
              "        loan_amount           term  property_value   Credit_Score  \\\n",
              "count  1.294580e+05  129458.000000    1.294580e+05  129458.000000   \n",
              "mean   3.320094e+05     335.233497    4.995324e+05     699.637257   \n",
              "std    1.821022e+05      58.418701    3.613434e+05     115.906588   \n",
              "min    1.650000e+04      96.000000    8.000000e+03     500.000000   \n",
              "25%    1.965000e+05     360.000000    2.780000e+05     599.000000   \n",
              "50%    2.965000e+05     360.000000    4.180000e+05     699.000000   \n",
              "75%    4.365000e+05     360.000000    6.280000e+05     800.000000   \n",
              "max    3.576500e+06     360.000000    1.650800e+07     900.000000   \n",
              "\n",
              "              Status  \n",
              "count  129458.000000  \n",
              "mean        0.159774  \n",
              "std         0.366398  \n",
              "min         0.000000  \n",
              "25%         0.000000  \n",
              "50%         0.000000  \n",
              "75%         0.000000  \n",
              "max         1.000000  "
            ],
            "text/html": [
              "\n",
              "  <div id=\"df-7e750c62-f7ed-450f-8aef-bd7845da2c19\">\n",
              "    <div class=\"colab-df-container\">\n",
              "      <div>\n",
              "<style scoped>\n",
              "    .dataframe tbody tr th:only-of-type {\n",
              "        vertical-align: middle;\n",
              "    }\n",
              "\n",
              "    .dataframe tbody tr th {\n",
              "        vertical-align: top;\n",
              "    }\n",
              "\n",
              "    .dataframe thead th {\n",
              "        text-align: right;\n",
              "    }\n",
              "</style>\n",
              "<table border=\"1\" class=\"dataframe\">\n",
              "  <thead>\n",
              "    <tr style=\"text-align: right;\">\n",
              "      <th></th>\n",
              "      <th>loan_amount</th>\n",
              "      <th>term</th>\n",
              "      <th>property_value</th>\n",
              "      <th>Credit_Score</th>\n",
              "      <th>Status</th>\n",
              "    </tr>\n",
              "  </thead>\n",
              "  <tbody>\n",
              "    <tr>\n",
              "      <th>count</th>\n",
              "      <td>1.294580e+05</td>\n",
              "      <td>129458.000000</td>\n",
              "      <td>1.294580e+05</td>\n",
              "      <td>129458.000000</td>\n",
              "      <td>129458.000000</td>\n",
              "    </tr>\n",
              "    <tr>\n",
              "      <th>mean</th>\n",
              "      <td>3.320094e+05</td>\n",
              "      <td>335.233497</td>\n",
              "      <td>4.995324e+05</td>\n",
              "      <td>699.637257</td>\n",
              "      <td>0.159774</td>\n",
              "    </tr>\n",
              "    <tr>\n",
              "      <th>std</th>\n",
              "      <td>1.821022e+05</td>\n",
              "      <td>58.418701</td>\n",
              "      <td>3.613434e+05</td>\n",
              "      <td>115.906588</td>\n",
              "      <td>0.366398</td>\n",
              "    </tr>\n",
              "    <tr>\n",
              "      <th>min</th>\n",
              "      <td>1.650000e+04</td>\n",
              "      <td>96.000000</td>\n",
              "      <td>8.000000e+03</td>\n",
              "      <td>500.000000</td>\n",
              "      <td>0.000000</td>\n",
              "    </tr>\n",
              "    <tr>\n",
              "      <th>25%</th>\n",
              "      <td>1.965000e+05</td>\n",
              "      <td>360.000000</td>\n",
              "      <td>2.780000e+05</td>\n",
              "      <td>599.000000</td>\n",
              "      <td>0.000000</td>\n",
              "    </tr>\n",
              "    <tr>\n",
              "      <th>50%</th>\n",
              "      <td>2.965000e+05</td>\n",
              "      <td>360.000000</td>\n",
              "      <td>4.180000e+05</td>\n",
              "      <td>699.000000</td>\n",
              "      <td>0.000000</td>\n",
              "    </tr>\n",
              "    <tr>\n",
              "      <th>75%</th>\n",
              "      <td>4.365000e+05</td>\n",
              "      <td>360.000000</td>\n",
              "      <td>6.280000e+05</td>\n",
              "      <td>800.000000</td>\n",
              "      <td>0.000000</td>\n",
              "    </tr>\n",
              "    <tr>\n",
              "      <th>max</th>\n",
              "      <td>3.576500e+06</td>\n",
              "      <td>360.000000</td>\n",
              "      <td>1.650800e+07</td>\n",
              "      <td>900.000000</td>\n",
              "      <td>1.000000</td>\n",
              "    </tr>\n",
              "  </tbody>\n",
              "</table>\n",
              "</div>\n",
              "      <button class=\"colab-df-convert\" onclick=\"convertToInteractive('df-7e750c62-f7ed-450f-8aef-bd7845da2c19')\"\n",
              "              title=\"Convert this dataframe to an interactive table.\"\n",
              "              style=\"display:none;\">\n",
              "        \n",
              "  <svg xmlns=\"http://www.w3.org/2000/svg\" height=\"24px\"viewBox=\"0 0 24 24\"\n",
              "       width=\"24px\">\n",
              "    <path d=\"M0 0h24v24H0V0z\" fill=\"none\"/>\n",
              "    <path d=\"M18.56 5.44l.94 2.06.94-2.06 2.06-.94-2.06-.94-.94-2.06-.94 2.06-2.06.94zm-11 1L8.5 8.5l.94-2.06 2.06-.94-2.06-.94L8.5 2.5l-.94 2.06-2.06.94zm10 10l.94 2.06.94-2.06 2.06-.94-2.06-.94-.94-2.06-.94 2.06-2.06.94z\"/><path d=\"M17.41 7.96l-1.37-1.37c-.4-.4-.92-.59-1.43-.59-.52 0-1.04.2-1.43.59L10.3 9.45l-7.72 7.72c-.78.78-.78 2.05 0 2.83L4 21.41c.39.39.9.59 1.41.59.51 0 1.02-.2 1.41-.59l7.78-7.78 2.81-2.81c.8-.78.8-2.07 0-2.86zM5.41 20L4 18.59l7.72-7.72 1.47 1.35L5.41 20z\"/>\n",
              "  </svg>\n",
              "      </button>\n",
              "      \n",
              "  <style>\n",
              "    .colab-df-container {\n",
              "      display:flex;\n",
              "      flex-wrap:wrap;\n",
              "      gap: 12px;\n",
              "    }\n",
              "\n",
              "    .colab-df-convert {\n",
              "      background-color: #E8F0FE;\n",
              "      border: none;\n",
              "      border-radius: 50%;\n",
              "      cursor: pointer;\n",
              "      display: none;\n",
              "      fill: #1967D2;\n",
              "      height: 32px;\n",
              "      padding: 0 0 0 0;\n",
              "      width: 32px;\n",
              "    }\n",
              "\n",
              "    .colab-df-convert:hover {\n",
              "      background-color: #E2EBFA;\n",
              "      box-shadow: 0px 1px 2px rgba(60, 64, 67, 0.3), 0px 1px 3px 1px rgba(60, 64, 67, 0.15);\n",
              "      fill: #174EA6;\n",
              "    }\n",
              "\n",
              "    [theme=dark] .colab-df-convert {\n",
              "      background-color: #3B4455;\n",
              "      fill: #D2E3FC;\n",
              "    }\n",
              "\n",
              "    [theme=dark] .colab-df-convert:hover {\n",
              "      background-color: #434B5C;\n",
              "      box-shadow: 0px 1px 3px 1px rgba(0, 0, 0, 0.15);\n",
              "      filter: drop-shadow(0px 1px 2px rgba(0, 0, 0, 0.3));\n",
              "      fill: #FFFFFF;\n",
              "    }\n",
              "  </style>\n",
              "\n",
              "      <script>\n",
              "        const buttonEl =\n",
              "          document.querySelector('#df-7e750c62-f7ed-450f-8aef-bd7845da2c19 button.colab-df-convert');\n",
              "        buttonEl.style.display =\n",
              "          google.colab.kernel.accessAllowed ? 'block' : 'none';\n",
              "\n",
              "        async function convertToInteractive(key) {\n",
              "          const element = document.querySelector('#df-7e750c62-f7ed-450f-8aef-bd7845da2c19');\n",
              "          const dataTable =\n",
              "            await google.colab.kernel.invokeFunction('convertToInteractive',\n",
              "                                                     [key], {});\n",
              "          if (!dataTable) return;\n",
              "\n",
              "          const docLinkHtml = 'Like what you see? Visit the ' +\n",
              "            '<a target=\"_blank\" href=https://colab.research.google.com/notebooks/data_table.ipynb>data table notebook</a>'\n",
              "            + ' to learn more about interactive tables.';\n",
              "          element.innerHTML = '';\n",
              "          dataTable['output_type'] = 'display_data';\n",
              "          await google.colab.output.renderOutput(dataTable, element);\n",
              "          const docLink = document.createElement('div');\n",
              "          docLink.innerHTML = docLinkHtml;\n",
              "          element.appendChild(docLink);\n",
              "        }\n",
              "      </script>\n",
              "    </div>\n",
              "  </div>\n",
              "  "
            ]
          },
          "metadata": {},
          "execution_count": 121
        }
      ]
    },
    {
      "cell_type": "markdown",
      "source": [
        "## Test and Trian"
      ],
      "metadata": {
        "id": "-ek4nHmdy3Va"
      }
    },
    {
      "cell_type": "markdown",
      "source": [
        "Make a dataset with this data:"
      ],
      "metadata": {
        "id": "oIjWDqJ0zWXN"
      }
    },
    {
      "cell_type": "markdown",
      "source": [
        "We run into an error with the age column so we need to preprocess it outside the FeatureSpace. Seems stupid like what is the point of feature space then??? \n",
        "\n",
        "Actually I have learned somemore after playing around. It just needs a string type not object type."
      ],
      "metadata": {
        "id": "Or5sOGWP19M8"
      }
    },
    {
      "cell_type": "code",
      "source": [
        "# Convert the \"approv_in_adv\" column to character type\n",
        "df[\"age\"] = df[\"age\"].astype(str)\n",
        "df[\"approv_in_adv\"] = df[\"approv_in_adv\"].astype(str)\n",
        "df[\"loan_limit\"] = df[\"loan_limit\"].astype(str)\n",
        "df[\"loan_purpose\"] = df[\"loan_purpose\"].astype(str)\n",
        "df[\"submission_of_application\"] = df[\"submission_of_application\"].astype(str)"
      ],
      "metadata": {
        "id": "eTzbhTSP3ERa"
      },
      "execution_count": null,
      "outputs": []
    },
    {
      "cell_type": "code",
      "source": [
        "val_dataframe = df.sample(frac=0.2, random_state=42)\n",
        "train_dataframe = df.drop(val_dataframe.index)\n",
        "\n",
        "print(\n",
        "    \"Using %d samples for training and %d for validation\"\n",
        "    % (len(train_dataframe), len(val_dataframe))\n",
        ")"
      ],
      "metadata": {
        "colab": {
          "base_uri": "https://localhost:8080/"
        },
        "id": "tTzUifkYy46z",
        "outputId": "ffee3fd8-ef8f-4197-d58b-38ca998a4b6b"
      },
      "execution_count": 109,
      "outputs": [
        {
          "output_type": "stream",
          "name": "stdout",
          "text": [
            "Using 103566 samples for training and 25892 for validation\n"
          ]
        }
      ]
    },
    {
      "cell_type": "code",
      "source": [
        "def dataframe_to_dataset(dataframe):\n",
        "    dataframe = dataframe.copy()\n",
        "    labels = dataframe.pop(\"Status\")\n",
        "    ds = tf.data.Dataset.from_tensor_slices((dict(dataframe), labels))\n",
        "    ds = ds.shuffle(buffer_size=len(dataframe))\n",
        "    return ds\n",
        "\n",
        "\n",
        "train_ds = dataframe_to_dataset(train_dataframe)\n",
        "val_ds = dataframe_to_dataset(val_dataframe)"
      ],
      "metadata": {
        "id": "T9ZLR-z2zV0T"
      },
      "execution_count": 110,
      "outputs": []
    },
    {
      "cell_type": "code",
      "source": [
        "for x, y in train_ds.take(1):\n",
        "    print(\"Input:\", x)\n",
        "    print(\"Target:\", y)"
      ],
      "metadata": {
        "colab": {
          "base_uri": "https://localhost:8080/"
        },
        "id": "achaY2mx4REn",
        "outputId": "837a0003-b94f-408a-8b30-59d187d4ecf4"
      },
      "execution_count": 111,
      "outputs": [
        {
          "output_type": "stream",
          "name": "stdout",
          "text": [
            "Input: {'loan_limit': <tf.Tensor: shape=(), dtype=string, numpy=b'cf'>, 'Gender': <tf.Tensor: shape=(), dtype=string, numpy=b'Joint'>, 'approv_in_adv': <tf.Tensor: shape=(), dtype=string, numpy=b'pre'>, 'loan_type': <tf.Tensor: shape=(), dtype=string, numpy=b'type1'>, 'loan_purpose': <tf.Tensor: shape=(), dtype=string, numpy=b'p1'>, 'business_or_commercial': <tf.Tensor: shape=(), dtype=string, numpy=b'nob/c'>, 'loan_amount': <tf.Tensor: shape=(), dtype=int64, numpy=146500>, 'term': <tf.Tensor: shape=(), dtype=float64, numpy=180.0>, 'property_value': <tf.Tensor: shape=(), dtype=float64, numpy=178000.0>, 'credit_type': <tf.Tensor: shape=(), dtype=string, numpy=b'EXP'>, 'Credit_Score': <tf.Tensor: shape=(), dtype=int64, numpy=842>, 'age': <tf.Tensor: shape=(), dtype=string, numpy=b'25-34'>, 'submission_of_application': <tf.Tensor: shape=(), dtype=string, numpy=b'to_inst'>, 'Region': <tf.Tensor: shape=(), dtype=string, numpy=b'North'>}\n",
            "Target: tf.Tensor(0, shape=(), dtype=int64)\n"
          ]
        }
      ]
    },
    {
      "cell_type": "markdown",
      "source": [
        "Doing batch sizing"
      ],
      "metadata": {
        "id": "IsBcoMQK4aqN"
      }
    },
    {
      "cell_type": "code",
      "source": [
        "train_ds = train_ds.batch(32)\n",
        "val_ds = val_ds.batch(32)"
      ],
      "metadata": {
        "id": "fpOFhVLx4age"
      },
      "execution_count": 112,
      "outputs": []
    },
    {
      "cell_type": "markdown",
      "source": [
        "## Configuring the FeatureSpace\n",
        "\n",
        "This is what will determine how each feature should be preprocessed. We will create a dictionary with featurespace that will describe each variable and how they should be preprocessed."
      ],
      "metadata": {
        "id": "ecVdIENB4eDz"
      }
    },
    {
      "cell_type": "code",
      "source": [
        "df"
      ],
      "metadata": {
        "colab": {
          "base_uri": "https://localhost:8080/",
          "height": 661
        },
        "id": "IXPexe3K5Ofe",
        "outputId": "c45de6a0-553f-44d5-98fb-c40cadc3d949"
      },
      "execution_count": 113,
      "outputs": [
        {
          "output_type": "execute_result",
          "data": {
            "text/plain": [
              "       loan_limit             Gender approv_in_adv loan_type loan_purpose  \\\n",
              "0              cf  Sex Not Available         nopre     type1           p1   \n",
              "2              cf               Male           pre     type1           p1   \n",
              "3              cf               Male         nopre     type1           p4   \n",
              "4              cf              Joint           pre     type1           p1   \n",
              "5              cf              Joint           pre     type1           p1   \n",
              "...           ...                ...           ...       ...          ...   \n",
              "148665         cf  Sex Not Available         nopre     type1           p3   \n",
              "148666         cf               Male         nopre     type1           p1   \n",
              "148667         cf               Male         nopre     type1           p4   \n",
              "148668         cf             Female         nopre     type1           p4   \n",
              "148669         cf             Female         nopre     type1           p3   \n",
              "\n",
              "       business_or_commercial  loan_amount   term  property_value credit_type  \\\n",
              "0                       nob/c       116500  360.0        118000.0         EXP   \n",
              "2                       nob/c       406500  360.0        508000.0         EXP   \n",
              "3                       nob/c       456500  360.0        658000.0         EXP   \n",
              "4                       nob/c       696500  360.0        758000.0        CRIF   \n",
              "5                       nob/c       706500  360.0       1008000.0         EXP   \n",
              "...                       ...          ...    ...             ...         ...   \n",
              "148665                  nob/c       436500  180.0        608000.0         CIB   \n",
              "148666                  nob/c       586500  360.0        788000.0         CIB   \n",
              "148667                  nob/c       446500  180.0        728000.0         CIB   \n",
              "148668                  nob/c       196500  180.0        278000.0         EXP   \n",
              "148669                  nob/c       406500  240.0        558000.0         CIB   \n",
              "\n",
              "        Credit_Score    age submission_of_application Region  Status  \n",
              "0                758  25-34                   to_inst  south       1  \n",
              "2                834  35-44                   to_inst  south       0  \n",
              "3                587  45-54                  not_inst  North       0  \n",
              "4                602  25-34                  not_inst  North       0  \n",
              "5                864  35-44                  not_inst  North       0  \n",
              "...              ...    ...                       ...    ...     ...  \n",
              "148665           659  55-64                   to_inst  south       0  \n",
              "148666           569  25-34                  not_inst  south       0  \n",
              "148667           702  45-54                  not_inst  North       0  \n",
              "148668           737  55-64                   to_inst  North       0  \n",
              "148669           830  45-54                  not_inst  North       0  \n",
              "\n",
              "[129458 rows x 15 columns]"
            ],
            "text/html": [
              "\n",
              "  <div id=\"df-d50054dd-b0bb-48a4-a846-0113da0ca6ea\">\n",
              "    <div class=\"colab-df-container\">\n",
              "      <div>\n",
              "<style scoped>\n",
              "    .dataframe tbody tr th:only-of-type {\n",
              "        vertical-align: middle;\n",
              "    }\n",
              "\n",
              "    .dataframe tbody tr th {\n",
              "        vertical-align: top;\n",
              "    }\n",
              "\n",
              "    .dataframe thead th {\n",
              "        text-align: right;\n",
              "    }\n",
              "</style>\n",
              "<table border=\"1\" class=\"dataframe\">\n",
              "  <thead>\n",
              "    <tr style=\"text-align: right;\">\n",
              "      <th></th>\n",
              "      <th>loan_limit</th>\n",
              "      <th>Gender</th>\n",
              "      <th>approv_in_adv</th>\n",
              "      <th>loan_type</th>\n",
              "      <th>loan_purpose</th>\n",
              "      <th>business_or_commercial</th>\n",
              "      <th>loan_amount</th>\n",
              "      <th>term</th>\n",
              "      <th>property_value</th>\n",
              "      <th>credit_type</th>\n",
              "      <th>Credit_Score</th>\n",
              "      <th>age</th>\n",
              "      <th>submission_of_application</th>\n",
              "      <th>Region</th>\n",
              "      <th>Status</th>\n",
              "    </tr>\n",
              "  </thead>\n",
              "  <tbody>\n",
              "    <tr>\n",
              "      <th>0</th>\n",
              "      <td>cf</td>\n",
              "      <td>Sex Not Available</td>\n",
              "      <td>nopre</td>\n",
              "      <td>type1</td>\n",
              "      <td>p1</td>\n",
              "      <td>nob/c</td>\n",
              "      <td>116500</td>\n",
              "      <td>360.0</td>\n",
              "      <td>118000.0</td>\n",
              "      <td>EXP</td>\n",
              "      <td>758</td>\n",
              "      <td>25-34</td>\n",
              "      <td>to_inst</td>\n",
              "      <td>south</td>\n",
              "      <td>1</td>\n",
              "    </tr>\n",
              "    <tr>\n",
              "      <th>2</th>\n",
              "      <td>cf</td>\n",
              "      <td>Male</td>\n",
              "      <td>pre</td>\n",
              "      <td>type1</td>\n",
              "      <td>p1</td>\n",
              "      <td>nob/c</td>\n",
              "      <td>406500</td>\n",
              "      <td>360.0</td>\n",
              "      <td>508000.0</td>\n",
              "      <td>EXP</td>\n",
              "      <td>834</td>\n",
              "      <td>35-44</td>\n",
              "      <td>to_inst</td>\n",
              "      <td>south</td>\n",
              "      <td>0</td>\n",
              "    </tr>\n",
              "    <tr>\n",
              "      <th>3</th>\n",
              "      <td>cf</td>\n",
              "      <td>Male</td>\n",
              "      <td>nopre</td>\n",
              "      <td>type1</td>\n",
              "      <td>p4</td>\n",
              "      <td>nob/c</td>\n",
              "      <td>456500</td>\n",
              "      <td>360.0</td>\n",
              "      <td>658000.0</td>\n",
              "      <td>EXP</td>\n",
              "      <td>587</td>\n",
              "      <td>45-54</td>\n",
              "      <td>not_inst</td>\n",
              "      <td>North</td>\n",
              "      <td>0</td>\n",
              "    </tr>\n",
              "    <tr>\n",
              "      <th>4</th>\n",
              "      <td>cf</td>\n",
              "      <td>Joint</td>\n",
              "      <td>pre</td>\n",
              "      <td>type1</td>\n",
              "      <td>p1</td>\n",
              "      <td>nob/c</td>\n",
              "      <td>696500</td>\n",
              "      <td>360.0</td>\n",
              "      <td>758000.0</td>\n",
              "      <td>CRIF</td>\n",
              "      <td>602</td>\n",
              "      <td>25-34</td>\n",
              "      <td>not_inst</td>\n",
              "      <td>North</td>\n",
              "      <td>0</td>\n",
              "    </tr>\n",
              "    <tr>\n",
              "      <th>5</th>\n",
              "      <td>cf</td>\n",
              "      <td>Joint</td>\n",
              "      <td>pre</td>\n",
              "      <td>type1</td>\n",
              "      <td>p1</td>\n",
              "      <td>nob/c</td>\n",
              "      <td>706500</td>\n",
              "      <td>360.0</td>\n",
              "      <td>1008000.0</td>\n",
              "      <td>EXP</td>\n",
              "      <td>864</td>\n",
              "      <td>35-44</td>\n",
              "      <td>not_inst</td>\n",
              "      <td>North</td>\n",
              "      <td>0</td>\n",
              "    </tr>\n",
              "    <tr>\n",
              "      <th>...</th>\n",
              "      <td>...</td>\n",
              "      <td>...</td>\n",
              "      <td>...</td>\n",
              "      <td>...</td>\n",
              "      <td>...</td>\n",
              "      <td>...</td>\n",
              "      <td>...</td>\n",
              "      <td>...</td>\n",
              "      <td>...</td>\n",
              "      <td>...</td>\n",
              "      <td>...</td>\n",
              "      <td>...</td>\n",
              "      <td>...</td>\n",
              "      <td>...</td>\n",
              "      <td>...</td>\n",
              "    </tr>\n",
              "    <tr>\n",
              "      <th>148665</th>\n",
              "      <td>cf</td>\n",
              "      <td>Sex Not Available</td>\n",
              "      <td>nopre</td>\n",
              "      <td>type1</td>\n",
              "      <td>p3</td>\n",
              "      <td>nob/c</td>\n",
              "      <td>436500</td>\n",
              "      <td>180.0</td>\n",
              "      <td>608000.0</td>\n",
              "      <td>CIB</td>\n",
              "      <td>659</td>\n",
              "      <td>55-64</td>\n",
              "      <td>to_inst</td>\n",
              "      <td>south</td>\n",
              "      <td>0</td>\n",
              "    </tr>\n",
              "    <tr>\n",
              "      <th>148666</th>\n",
              "      <td>cf</td>\n",
              "      <td>Male</td>\n",
              "      <td>nopre</td>\n",
              "      <td>type1</td>\n",
              "      <td>p1</td>\n",
              "      <td>nob/c</td>\n",
              "      <td>586500</td>\n",
              "      <td>360.0</td>\n",
              "      <td>788000.0</td>\n",
              "      <td>CIB</td>\n",
              "      <td>569</td>\n",
              "      <td>25-34</td>\n",
              "      <td>not_inst</td>\n",
              "      <td>south</td>\n",
              "      <td>0</td>\n",
              "    </tr>\n",
              "    <tr>\n",
              "      <th>148667</th>\n",
              "      <td>cf</td>\n",
              "      <td>Male</td>\n",
              "      <td>nopre</td>\n",
              "      <td>type1</td>\n",
              "      <td>p4</td>\n",
              "      <td>nob/c</td>\n",
              "      <td>446500</td>\n",
              "      <td>180.0</td>\n",
              "      <td>728000.0</td>\n",
              "      <td>CIB</td>\n",
              "      <td>702</td>\n",
              "      <td>45-54</td>\n",
              "      <td>not_inst</td>\n",
              "      <td>North</td>\n",
              "      <td>0</td>\n",
              "    </tr>\n",
              "    <tr>\n",
              "      <th>148668</th>\n",
              "      <td>cf</td>\n",
              "      <td>Female</td>\n",
              "      <td>nopre</td>\n",
              "      <td>type1</td>\n",
              "      <td>p4</td>\n",
              "      <td>nob/c</td>\n",
              "      <td>196500</td>\n",
              "      <td>180.0</td>\n",
              "      <td>278000.0</td>\n",
              "      <td>EXP</td>\n",
              "      <td>737</td>\n",
              "      <td>55-64</td>\n",
              "      <td>to_inst</td>\n",
              "      <td>North</td>\n",
              "      <td>0</td>\n",
              "    </tr>\n",
              "    <tr>\n",
              "      <th>148669</th>\n",
              "      <td>cf</td>\n",
              "      <td>Female</td>\n",
              "      <td>nopre</td>\n",
              "      <td>type1</td>\n",
              "      <td>p3</td>\n",
              "      <td>nob/c</td>\n",
              "      <td>406500</td>\n",
              "      <td>240.0</td>\n",
              "      <td>558000.0</td>\n",
              "      <td>CIB</td>\n",
              "      <td>830</td>\n",
              "      <td>45-54</td>\n",
              "      <td>not_inst</td>\n",
              "      <td>North</td>\n",
              "      <td>0</td>\n",
              "    </tr>\n",
              "  </tbody>\n",
              "</table>\n",
              "<p>129458 rows × 15 columns</p>\n",
              "</div>\n",
              "      <button class=\"colab-df-convert\" onclick=\"convertToInteractive('df-d50054dd-b0bb-48a4-a846-0113da0ca6ea')\"\n",
              "              title=\"Convert this dataframe to an interactive table.\"\n",
              "              style=\"display:none;\">\n",
              "        \n",
              "  <svg xmlns=\"http://www.w3.org/2000/svg\" height=\"24px\"viewBox=\"0 0 24 24\"\n",
              "       width=\"24px\">\n",
              "    <path d=\"M0 0h24v24H0V0z\" fill=\"none\"/>\n",
              "    <path d=\"M18.56 5.44l.94 2.06.94-2.06 2.06-.94-2.06-.94-.94-2.06-.94 2.06-2.06.94zm-11 1L8.5 8.5l.94-2.06 2.06-.94-2.06-.94L8.5 2.5l-.94 2.06-2.06.94zm10 10l.94 2.06.94-2.06 2.06-.94-2.06-.94-.94-2.06-.94 2.06-2.06.94z\"/><path d=\"M17.41 7.96l-1.37-1.37c-.4-.4-.92-.59-1.43-.59-.52 0-1.04.2-1.43.59L10.3 9.45l-7.72 7.72c-.78.78-.78 2.05 0 2.83L4 21.41c.39.39.9.59 1.41.59.51 0 1.02-.2 1.41-.59l7.78-7.78 2.81-2.81c.8-.78.8-2.07 0-2.86zM5.41 20L4 18.59l7.72-7.72 1.47 1.35L5.41 20z\"/>\n",
              "  </svg>\n",
              "      </button>\n",
              "      \n",
              "  <style>\n",
              "    .colab-df-container {\n",
              "      display:flex;\n",
              "      flex-wrap:wrap;\n",
              "      gap: 12px;\n",
              "    }\n",
              "\n",
              "    .colab-df-convert {\n",
              "      background-color: #E8F0FE;\n",
              "      border: none;\n",
              "      border-radius: 50%;\n",
              "      cursor: pointer;\n",
              "      display: none;\n",
              "      fill: #1967D2;\n",
              "      height: 32px;\n",
              "      padding: 0 0 0 0;\n",
              "      width: 32px;\n",
              "    }\n",
              "\n",
              "    .colab-df-convert:hover {\n",
              "      background-color: #E2EBFA;\n",
              "      box-shadow: 0px 1px 2px rgba(60, 64, 67, 0.3), 0px 1px 3px 1px rgba(60, 64, 67, 0.15);\n",
              "      fill: #174EA6;\n",
              "    }\n",
              "\n",
              "    [theme=dark] .colab-df-convert {\n",
              "      background-color: #3B4455;\n",
              "      fill: #D2E3FC;\n",
              "    }\n",
              "\n",
              "    [theme=dark] .colab-df-convert:hover {\n",
              "      background-color: #434B5C;\n",
              "      box-shadow: 0px 1px 3px 1px rgba(0, 0, 0, 0.15);\n",
              "      filter: drop-shadow(0px 1px 2px rgba(0, 0, 0, 0.3));\n",
              "      fill: #FFFFFF;\n",
              "    }\n",
              "  </style>\n",
              "\n",
              "      <script>\n",
              "        const buttonEl =\n",
              "          document.querySelector('#df-d50054dd-b0bb-48a4-a846-0113da0ca6ea button.colab-df-convert');\n",
              "        buttonEl.style.display =\n",
              "          google.colab.kernel.accessAllowed ? 'block' : 'none';\n",
              "\n",
              "        async function convertToInteractive(key) {\n",
              "          const element = document.querySelector('#df-d50054dd-b0bb-48a4-a846-0113da0ca6ea');\n",
              "          const dataTable =\n",
              "            await google.colab.kernel.invokeFunction('convertToInteractive',\n",
              "                                                     [key], {});\n",
              "          if (!dataTable) return;\n",
              "\n",
              "          const docLinkHtml = 'Like what you see? Visit the ' +\n",
              "            '<a target=\"_blank\" href=https://colab.research.google.com/notebooks/data_table.ipynb>data table notebook</a>'\n",
              "            + ' to learn more about interactive tables.';\n",
              "          element.innerHTML = '';\n",
              "          dataTable['output_type'] = 'display_data';\n",
              "          await google.colab.output.renderOutput(dataTable, element);\n",
              "          const docLink = document.createElement('div');\n",
              "          docLink.innerHTML = docLinkHtml;\n",
              "          element.appendChild(docLink);\n",
              "        }\n",
              "      </script>\n",
              "    </div>\n",
              "  </div>\n",
              "  "
            ]
          },
          "metadata": {},
          "execution_count": 113
        }
      ]
    },
    {
      "cell_type": "markdown",
      "source": [
        "As we can see above, we have many different types of variables. String catagoricals like \"loan_limit\", \"Gender\", and \"approv_in_adv\". Numerican that we want to normalize like \"loan_amount\" and \"property_value\". "
      ],
      "metadata": {
        "id": "PCudBOMf5R3D"
      }
    },
    {
      "cell_type": "code",
      "source": [
        "feature_space = FeatureSpace(\n",
        "    features={\n",
        "        # Categorical feature encoded as string\n",
        "        \"loan_limit\": FeatureSpace.string_categorical(num_oov_indices=1),\n",
        "        \"Gender\": FeatureSpace.string_categorical(num_oov_indices=1),\n",
        "        \"approv_in_adv\": FeatureSpace.string_categorical(num_oov_indices=1),\n",
        "        \"loan_type\": FeatureSpace.string_categorical(num_oov_indices=1),\n",
        "        \"loan_purpose\": FeatureSpace.string_categorical(num_oov_indices=1),\n",
        "        \"business_or_commercial\": FeatureSpace.string_categorical(num_oov_indices=0),\n",
        "        \"credit_type\": FeatureSpace.string_categorical(num_oov_indices=1),\n",
        "        \"submission_of_application\": FeatureSpace.string_categorical(num_oov_indices=1),\n",
        "        \"age\": FeatureSpace.string_categorical(num_oov_indices=1),\n",
        "        \"Region\": FeatureSpace.string_categorical(num_oov_indices=1),\n",
        "\n",
        "        # Numerical features to normalize\n",
        "        \"loan_amount\": FeatureSpace.float_normalized(),\n",
        "        \"property_value\": FeatureSpace.float_normalized(),\n",
        "        \"Credit_Score\": FeatureSpace.float_normalized(),\n",
        "        \"term\": FeatureSpace.float_normalized()\n",
        "\n",
        "    },\n",
        "\n",
        "    output_mode=\"concat\",\n",
        ")"
      ],
      "metadata": {
        "id": "fBAKNMoT6nPD"
      },
      "execution_count": 114,
      "outputs": []
    },
    {
      "cell_type": "markdown",
      "source": [
        "## Adapt FeatureSpace to Training Data\n",
        "\n",
        "During adapt(), the FeatureSpace will:\n",
        "\n",
        "- Index the set of possible values for categorical features.\n",
        "- Compute the mean and variance for numerical features to normalize.\n",
        "- Compute the value boundaries for the different bins for numerical features to discretize."
      ],
      "metadata": {
        "id": "-fUdYhLm9DfK"
      }
    },
    {
      "cell_type": "code",
      "source": [
        "train_ds_with_no_labels = train_ds.map(lambda x, _: x)\n",
        "feature_space.adapt(train_ds_with_no_labels)"
      ],
      "metadata": {
        "id": "2rtwiOhq9MuL"
      },
      "execution_count": 115,
      "outputs": []
    },
    {
      "cell_type": "code",
      "source": [
        "for x, _ in train_ds.take(1):\n",
        "    preprocessed_x = feature_space(x)\n",
        "    print(\"preprocessed_x.shape:\", preprocessed_x.shape)\n",
        "    print(\"preprocessed_x.dtype:\", preprocessed_x.dtype)"
      ],
      "metadata": {
        "colab": {
          "base_uri": "https://localhost:8080/"
        },
        "id": "8jp0sV0r9QPV",
        "outputId": "03a7e211-2560-40d3-e4e6-2626a9760f7b"
      },
      "execution_count": 116,
      "outputs": [
        {
          "output_type": "stream",
          "name": "stdout",
          "text": [
            "preprocessed_x.shape: (32, 47)\n",
            "preprocessed_x.dtype: <dtype: 'float32'>\n"
          ]
        }
      ]
    },
    {
      "cell_type": "code",
      "source": [
        "preprocessed_train_ds = train_ds.map(\n",
        "    lambda x, y: (feature_space(x), y), num_parallel_calls=tf.data.AUTOTUNE\n",
        ")\n",
        "preprocessed_train_ds = preprocessed_train_ds.prefetch(tf.data.AUTOTUNE)\n",
        "\n",
        "preprocessed_val_ds = val_ds.map(\n",
        "    lambda x, y: (feature_space(x), y), num_parallel_calls=tf.data.AUTOTUNE\n",
        ")\n",
        "preprocessed_val_ds = preprocessed_val_ds.prefetch(tf.data.AUTOTUNE)"
      ],
      "metadata": {
        "id": "H4PyJBtB-Oa_"
      },
      "execution_count": 117,
      "outputs": []
    },
    {
      "cell_type": "markdown",
      "source": [
        "## Building the Model"
      ],
      "metadata": {
        "id": "rc4H-b3F-hOe"
      }
    },
    {
      "cell_type": "code",
      "source": [
        "dict_inputs = feature_space.get_inputs()\n",
        "encoded_features = feature_space.get_encoded_features()\n",
        "\n",
        "x = keras.layers.Dense(100, activation=\"relu\")(encoded_features)\n",
        "x = keras.layers.Dropout(0.5)(x)\n",
        "predictions = keras.layers.Dense(1, activation=\"sigmoid\")(x)\n",
        "\n",
        "training_model = keras.Model(inputs=encoded_features, outputs=predictions)\n",
        "training_model.compile(\n",
        "    optimizer=\"adam\", loss=\"binary_crossentropy\", metrics=[\"AUC\"]\n",
        ")\n",
        "\n",
        "inference_model = keras.Model(inputs=dict_inputs, outputs=predictions)"
      ],
      "metadata": {
        "id": "OzOvfRF4-jK2"
      },
      "execution_count": 123,
      "outputs": []
    },
    {
      "cell_type": "markdown",
      "source": [
        "## Training the Model"
      ],
      "metadata": {
        "id": "He8XNlM0-uMZ"
      }
    },
    {
      "cell_type": "code",
      "source": [
        "training_model.fit(\n",
        "    preprocessed_train_ds, epochs=20, validation_data=preprocessed_val_ds, verbose=2\n",
        ")"
      ],
      "metadata": {
        "colab": {
          "base_uri": "https://localhost:8080/"
        },
        "id": "W_Zhe94Y-wQO",
        "outputId": "e9f247f6-8238-4707-8cee-8a3e567d08f0"
      },
      "execution_count": 124,
      "outputs": [
        {
          "output_type": "stream",
          "name": "stdout",
          "text": [
            "Epoch 1/20\n",
            "3237/3237 - 8s - loss: 0.4284 - auc: 0.6269 - val_loss: 0.4156 - val_auc: 0.6594 - 8s/epoch - 2ms/step\n",
            "Epoch 2/20\n",
            "3237/3237 - 7s - loss: 0.4202 - auc: 0.6535 - val_loss: 0.4134 - val_auc: 0.6680 - 7s/epoch - 2ms/step\n",
            "Epoch 3/20\n",
            "3237/3237 - 7s - loss: 0.4180 - auc: 0.6595 - val_loss: 0.4132 - val_auc: 0.6696 - 7s/epoch - 2ms/step\n",
            "Epoch 4/20\n",
            "3237/3237 - 6s - loss: 0.4166 - auc: 0.6642 - val_loss: 0.4128 - val_auc: 0.6751 - 6s/epoch - 2ms/step\n",
            "Epoch 5/20\n",
            "3237/3237 - 6s - loss: 0.4150 - auc: 0.6697 - val_loss: 0.4109 - val_auc: 0.6745 - 6s/epoch - 2ms/step\n",
            "Epoch 6/20\n",
            "3237/3237 - 6s - loss: 0.4142 - auc: 0.6713 - val_loss: 0.4114 - val_auc: 0.6797 - 6s/epoch - 2ms/step\n",
            "Epoch 7/20\n",
            "3237/3237 - 7s - loss: 0.4129 - auc: 0.6753 - val_loss: 0.4088 - val_auc: 0.6822 - 7s/epoch - 2ms/step\n",
            "Epoch 8/20\n",
            "3237/3237 - 6s - loss: 0.4116 - auc: 0.6787 - val_loss: 0.4069 - val_auc: 0.6870 - 6s/epoch - 2ms/step\n",
            "Epoch 9/20\n",
            "3237/3237 - 7s - loss: 0.4104 - auc: 0.6809 - val_loss: 0.4066 - val_auc: 0.6887 - 7s/epoch - 2ms/step\n",
            "Epoch 10/20\n",
            "3237/3237 - 7s - loss: 0.4095 - auc: 0.6831 - val_loss: 0.4050 - val_auc: 0.6894 - 7s/epoch - 2ms/step\n",
            "Epoch 11/20\n",
            "3237/3237 - 7s - loss: 0.4073 - auc: 0.6873 - val_loss: 0.4033 - val_auc: 0.6930 - 7s/epoch - 2ms/step\n",
            "Epoch 12/20\n",
            "3237/3237 - 7s - loss: 0.4075 - auc: 0.6870 - val_loss: 0.4040 - val_auc: 0.6923 - 7s/epoch - 2ms/step\n",
            "Epoch 13/20\n",
            "3237/3237 - 6s - loss: 0.4062 - auc: 0.6894 - val_loss: 0.4022 - val_auc: 0.6942 - 6s/epoch - 2ms/step\n",
            "Epoch 14/20\n",
            "3237/3237 - 7s - loss: 0.4054 - auc: 0.6901 - val_loss: 0.4012 - val_auc: 0.6969 - 7s/epoch - 2ms/step\n",
            "Epoch 15/20\n",
            "3237/3237 - 7s - loss: 0.4051 - auc: 0.6917 - val_loss: 0.4025 - val_auc: 0.6952 - 7s/epoch - 2ms/step\n",
            "Epoch 16/20\n",
            "3237/3237 - 6s - loss: 0.4048 - auc: 0.6914 - val_loss: 0.4026 - val_auc: 0.6952 - 6s/epoch - 2ms/step\n",
            "Epoch 17/20\n",
            "3237/3237 - 7s - loss: 0.4041 - auc: 0.6918 - val_loss: 0.4020 - val_auc: 0.6962 - 7s/epoch - 2ms/step\n",
            "Epoch 18/20\n",
            "3237/3237 - 7s - loss: 0.4038 - auc: 0.6934 - val_loss: 0.4006 - val_auc: 0.6950 - 7s/epoch - 2ms/step\n",
            "Epoch 19/20\n",
            "3237/3237 - 8s - loss: 0.4033 - auc: 0.6938 - val_loss: 0.4005 - val_auc: 0.6967 - 8s/epoch - 2ms/step\n",
            "Epoch 20/20\n",
            "3237/3237 - 6s - loss: 0.4024 - auc: 0.6957 - val_loss: 0.4001 - val_auc: 0.6981 - 6s/epoch - 2ms/step\n"
          ]
        },
        {
          "output_type": "execute_result",
          "data": {
            "text/plain": [
              "<keras.callbacks.History at 0x7efda8630bb0>"
            ]
          },
          "metadata": {},
          "execution_count": 124
        }
      ]
    },
    {
      "cell_type": "markdown",
      "source": [
        "This is a decent model, with an ROC_AUC just under .7 which is the minimum I would take for being acceptable"
      ],
      "metadata": {
        "id": "c_iVsnM6F-eh"
      }
    },
    {
      "cell_type": "markdown",
      "source": [
        "We can use our model (which includes the FeatureSpace) to make predictions based on dicts of raw features values, as follows:"
      ],
      "metadata": {
        "id": "rl28kV0aGYNU"
      }
    },
    {
      "cell_type": "code",
      "source": [
        "sample = {\n",
        "\n",
        "        \"loan_limit\": \"cf\",\n",
        "        \"Gender\": \"Male\",\n",
        "        \"approv_in_adv\": \"nopre\",\n",
        "        \"loan_type\": \"type2\",\n",
        "        \"loan_purpose\": \"p3\",\n",
        "        \"business_or_commercial\": \"nob/c\",\n",
        "        \"credit_type\": \"EXP\",\n",
        "        \"submission_of_application\": \"to_inst\",\n",
        "        \"age\": \"25-34\",\n",
        "        \"Region\": \"North\",\n",
        "\n",
        "        \"loan_amount\": 450000,\n",
        "        \"property_value\": 500000,\n",
        "        \"Credit_Score\": 700,\n",
        "        \"term\": 360\n",
        "}\n",
        "\n",
        "input_dict = {name: tf.convert_to_tensor([value]) for name, value in sample.items()}\n",
        "predictions = inference_model.predict(input_dict)\n",
        "\n",
        "print(\n",
        "    f\"This particular sample has a {100 * predictions[0][0]:.2f}% probability \"\n",
        "    \"of being FRAUD, as evaluated by our model.\"\n",
        ")"
      ],
      "metadata": {
        "colab": {
          "base_uri": "https://localhost:8080/"
        },
        "id": "b8G0h6xpCJKE",
        "outputId": "f9510332-974c-4a7e-ab90-08bc5dc4bbb8"
      },
      "execution_count": 127,
      "outputs": [
        {
          "output_type": "stream",
          "name": "stdout",
          "text": [
            "1/1 [==============================] - 0s 27ms/step\n",
            "This particular patient had a 37.20% probability of being FRAUD, as evaluated by our model.\n"
          ]
        }
      ]
    },
    {
      "cell_type": "markdown",
      "source": [
        "This is a fun project that may take initailly a slightly longer start up time, but once this is produced and built out, we can see time savings in terms of evaluating new cases of data we may come accross. A bank may use this and input the data for someone applying for a loan to evaluate risk. Or an individual or organization may apply this to their data to assess which accounts to audit first. Start with the most risky and work down.\n",
        "\n",
        "I like this because it can easily be expandable to iterate through may inputs or automated to evaluate new cases as they are created. Similar could be done with different types of data like stream data."
      ],
      "metadata": {
        "id": "-J3rjIeDGUZZ"
      }
    },
    {
      "cell_type": "markdown",
      "source": [
        "## Model 2\n",
        "\n",
        "Like our labs, I want to play around with a few other specs to see if I can create a better model. I will leave this here to compare but I will only keep one as to not leave this notebook messy."
      ],
      "metadata": {
        "id": "B1tdUHt4HKK5"
      }
    },
    {
      "cell_type": "code",
      "source": [
        "dict_inputs = feature_space.get_inputs()\n",
        "encoded_features = feature_space.get_encoded_features()\n",
        "\n",
        "x = keras.layers.Dense(96, activation=\"sigmoid\")(encoded_features)\n",
        "x = keras.layers.Dense(96, activation=\"sigmoid\")(x)\n",
        "x = keras.layers.Dropout(0.25)(x)\n",
        "predictions = keras.layers.Dense(1, activation=\"sigmoid\")(x)\n",
        "\n",
        "training_model = keras.Model(inputs=encoded_features, outputs=predictions)\n",
        "training_model.compile(\n",
        "    optimizer=\"adam\", loss=\"binary_crossentropy\", metrics=[\"AUC\"]\n",
        ")\n",
        "\n",
        "inference_model = keras.Model(inputs=dict_inputs, outputs=predictions)"
      ],
      "metadata": {
        "id": "h5y6gekqHX9X"
      },
      "execution_count": 131,
      "outputs": []
    },
    {
      "cell_type": "code",
      "source": [
        "training_model.fit(\n",
        "    preprocessed_train_ds, epochs=20, validation_data=preprocessed_val_ds, verbose=2\n",
        ")"
      ],
      "metadata": {
        "colab": {
          "base_uri": "https://localhost:8080/"
        },
        "id": "BMIZ9q3bHc3v",
        "outputId": "79bf4406-65df-4b93-f5f6-473d1cf1b8df"
      },
      "execution_count": 132,
      "outputs": [
        {
          "output_type": "stream",
          "name": "stdout",
          "text": [
            "Epoch 1/20\n",
            "3237/3237 - 8s - loss: 0.4307 - auc: 0.6125 - val_loss: 0.4220 - val_auc: 0.6466 - 8s/epoch - 3ms/step\n",
            "Epoch 2/20\n",
            "3237/3237 - 8s - loss: 0.4228 - auc: 0.6419 - val_loss: 0.4170 - val_auc: 0.6539 - 8s/epoch - 2ms/step\n",
            "Epoch 3/20\n",
            "3237/3237 - 6s - loss: 0.4204 - auc: 0.6495 - val_loss: 0.4165 - val_auc: 0.6570 - 6s/epoch - 2ms/step\n",
            "Epoch 4/20\n",
            "3237/3237 - 7s - loss: 0.4192 - auc: 0.6535 - val_loss: 0.4169 - val_auc: 0.6592 - 7s/epoch - 2ms/step\n",
            "Epoch 5/20\n",
            "3237/3237 - 8s - loss: 0.4175 - auc: 0.6594 - val_loss: 0.4142 - val_auc: 0.6632 - 8s/epoch - 2ms/step\n",
            "Epoch 6/20\n",
            "3237/3237 - 8s - loss: 0.4162 - auc: 0.6636 - val_loss: 0.4139 - val_auc: 0.6650 - 8s/epoch - 2ms/step\n",
            "Epoch 7/20\n",
            "3237/3237 - 7s - loss: 0.4148 - auc: 0.6680 - val_loss: 0.4121 - val_auc: 0.6714 - 7s/epoch - 2ms/step\n",
            "Epoch 8/20\n",
            "3237/3237 - 7s - loss: 0.4139 - auc: 0.6702 - val_loss: 0.4158 - val_auc: 0.6733 - 7s/epoch - 2ms/step\n",
            "Epoch 9/20\n",
            "3237/3237 - 7s - loss: 0.4130 - auc: 0.6736 - val_loss: 0.4099 - val_auc: 0.6771 - 7s/epoch - 2ms/step\n",
            "Epoch 10/20\n",
            "3237/3237 - 7s - loss: 0.4113 - auc: 0.6772 - val_loss: 0.4093 - val_auc: 0.6790 - 7s/epoch - 2ms/step\n",
            "Epoch 11/20\n",
            "3237/3237 - 7s - loss: 0.4101 - auc: 0.6798 - val_loss: 0.4074 - val_auc: 0.6824 - 7s/epoch - 2ms/step\n",
            "Epoch 12/20\n",
            "3237/3237 - 7s - loss: 0.4082 - auc: 0.6842 - val_loss: 0.4061 - val_auc: 0.6865 - 7s/epoch - 2ms/step\n",
            "Epoch 13/20\n",
            "3237/3237 - 7s - loss: 0.4057 - auc: 0.6898 - val_loss: 0.4054 - val_auc: 0.6909 - 7s/epoch - 2ms/step\n",
            "Epoch 14/20\n",
            "3237/3237 - 6s - loss: 0.4036 - auc: 0.6923 - val_loss: 0.4019 - val_auc: 0.6945 - 6s/epoch - 2ms/step\n",
            "Epoch 15/20\n",
            "3237/3237 - 7s - loss: 0.4016 - auc: 0.6957 - val_loss: 0.3998 - val_auc: 0.6994 - 7s/epoch - 2ms/step\n",
            "Epoch 16/20\n",
            "3237/3237 - 8s - loss: 0.3991 - auc: 0.7003 - val_loss: 0.3992 - val_auc: 0.7001 - 8s/epoch - 3ms/step\n",
            "Epoch 17/20\n",
            "3237/3237 - 6s - loss: 0.3979 - auc: 0.7027 - val_loss: 0.3979 - val_auc: 0.6997 - 6s/epoch - 2ms/step\n",
            "Epoch 18/20\n",
            "3237/3237 - 8s - loss: 0.3964 - auc: 0.7041 - val_loss: 0.3965 - val_auc: 0.7015 - 8s/epoch - 3ms/step\n",
            "Epoch 19/20\n",
            "3237/3237 - 6s - loss: 0.3954 - auc: 0.7062 - val_loss: 0.3952 - val_auc: 0.7030 - 6s/epoch - 2ms/step\n",
            "Epoch 20/20\n",
            "3237/3237 - 7s - loss: 0.3940 - auc: 0.7081 - val_loss: 0.3962 - val_auc: 0.7037 - 7s/epoch - 2ms/step\n"
          ]
        },
        {
          "output_type": "execute_result",
          "data": {
            "text/plain": [
              "<keras.callbacks.History at 0x7efda85c8e20>"
            ]
          },
          "metadata": {},
          "execution_count": 132
        }
      ]
    },
    {
      "cell_type": "code",
      "source": [
        "sample = {\n",
        "\n",
        "        \"loan_limit\": \"cf\",\n",
        "        \"Gender\": \"Male\",\n",
        "        \"approv_in_adv\": \"nopre\",\n",
        "        \"loan_type\": \"type2\",\n",
        "        \"loan_purpose\": \"p3\",\n",
        "        \"business_or_commercial\": \"nob/c\",\n",
        "        \"credit_type\": \"EXP\",\n",
        "        \"submission_of_application\": \"to_inst\",\n",
        "        \"age\": \"25-34\",\n",
        "        \"Region\": \"North\",\n",
        "\n",
        "        \"loan_amount\": 450000,\n",
        "        \"property_value\": 500000,\n",
        "        \"Credit_Score\": 700,\n",
        "        \"term\": 360\n",
        "}\n",
        "\n",
        "input_dict = {name: tf.convert_to_tensor([value]) for name, value in sample.items()}\n",
        "predictions = inference_model.predict(input_dict)\n",
        "\n",
        "print(\n",
        "    f\"This particular sample has a {100 * predictions[0][0]:.2f}% probability \"\n",
        "    \"of being FRAUD, as evaluated by our model.\"\n",
        ")"
      ],
      "metadata": {
        "colab": {
          "base_uri": "https://localhost:8080/"
        },
        "id": "IxPCNzEtHewO",
        "outputId": "29e422c1-544b-4ad0-8fea-9077182c8cc5"
      },
      "execution_count": 133,
      "outputs": [
        {
          "output_type": "stream",
          "name": "stderr",
          "text": [
            "WARNING:tensorflow:5 out of the last 7 calls to <function Model.make_predict_function.<locals>.predict_function at 0x7efdb808a5f0> triggered tf.function retracing. Tracing is expensive and the excessive number of tracings could be due to (1) creating @tf.function repeatedly in a loop, (2) passing tensors with different shapes, (3) passing Python objects instead of tensors. For (1), please define your @tf.function outside of the loop. For (2), @tf.function has reduce_retracing=True option that can avoid unnecessary retracing. For (3), please refer to https://www.tensorflow.org/guide/function#controlling_retracing and https://www.tensorflow.org/api_docs/python/tf/function for  more details.\n"
          ]
        },
        {
          "output_type": "stream",
          "name": "stdout",
          "text": [
            "1/1 [==============================] - 0s 341ms/step\n",
            "This particular sample has a 37.88% probability of being FRAUD, as evaluated by our model.\n"
          ]
        }
      ]
    },
    {
      "cell_type": "markdown",
      "source": [
        "## Conclusion\n",
        "\n",
        "Like stated above, I think this application has many different uses where it would be beneficial to apply it to.\n",
        "\n",
        "The second model listed above had the highest overall AUC I was able to put together, but more options should be explored. Perhaps additional business knowledge and data exploration could be done, so that the best model or most applicaple could be built. We see from the 2 probabilities of the one sample case that they produce a similar likelihood of being Fraud. Different models could be explored to give greater insight into which variables contribute the most to that number.\n",
        "\n",
        "Some of the models I built that had AUC in the .67-.7 range would give probabilities of being fraud to this sample of 20%, which is much different than what we found with the two above models. Therefore those models must have been picking up something different. As always we needed to be careful of overfitting, that seemed to be a slight issue at times between all the models I built."
      ],
      "metadata": {
        "id": "JP_83RW9LEIF"
      }
    }
  ]
}