{
  "nbformat": 4,
  "nbformat_minor": 0,
  "metadata": {
    "colab": {
      "provenance": [],
      "authorship_tag": "ABX9TyM8OIVYa5oMIJpVrt4MvwO4",
      "include_colab_link": true
    },
    "kernelspec": {
      "name": "python3",
      "display_name": "Python 3"
    },
    "language_info": {
      "name": "python"
    }
  },
  "cells": [
    {
      "cell_type": "markdown",
      "metadata": {
        "id": "view-in-github",
        "colab_type": "text"
      },
      "source": [
        "<a href=\"https://colab.research.google.com/github/evroth/gsb545repo/blob/main/PA_Stacking.ipynb\" target=\"_parent\"><img src=\"https://colab.research.google.com/assets/colab-badge.svg\" alt=\"Open In Colab\"/></a>"
      ]
    },
    {
      "cell_type": "markdown",
      "source": [
        "# Practice Activity: Stacking\n",
        "Week 3"
      ],
      "metadata": {
        "id": "YbZElMhG_6eh"
      }
    },
    {
      "cell_type": "markdown",
      "source": [
        "## The Abalone Data"
      ],
      "metadata": {
        "id": "YOM61J0LAGah"
      }
    },
    {
      "cell_type": "code",
      "execution_count": 1,
      "metadata": {
        "colab": {
          "base_uri": "https://localhost:8080/"
        },
        "id": "nU8HgG_U_2Yh",
        "outputId": "487f7c43-a57a-42fa-9593-b8392f8ce375"
      },
      "outputs": [
        {
          "output_type": "stream",
          "name": "stdout",
          "text": [
            "     sex  length  diameter  height  whole_weight  shucked_weight  \\\n",
            "0      M   0.455     0.365   0.095        0.5140          0.2245   \n",
            "1      M   0.350     0.265   0.090        0.2255          0.0995   \n",
            "2      F   0.530     0.420   0.135        0.6770          0.2565   \n",
            "3      M   0.440     0.365   0.125        0.5160          0.2155   \n",
            "4      I   0.330     0.255   0.080        0.2050          0.0895   \n",
            "...   ..     ...       ...     ...           ...             ...   \n",
            "4172   F   0.565     0.450   0.165        0.8870          0.3700   \n",
            "4173   M   0.590     0.440   0.135        0.9660          0.4390   \n",
            "4174   M   0.600     0.475   0.205        1.1760          0.5255   \n",
            "4175   F   0.625     0.485   0.150        1.0945          0.5310   \n",
            "4176   M   0.710     0.555   0.195        1.9485          0.9455   \n",
            "\n",
            "      viscera_weight  shell_weight  rings  \n",
            "0             0.1010        0.1500     15  \n",
            "1             0.0485        0.0700      7  \n",
            "2             0.1415        0.2100      9  \n",
            "3             0.1140        0.1550     10  \n",
            "4             0.0395        0.0550      7  \n",
            "...              ...           ...    ...  \n",
            "4172          0.2390        0.2490     11  \n",
            "4173          0.2145        0.2605     10  \n",
            "4174          0.2875        0.3080      9  \n",
            "4175          0.2610        0.2960     10  \n",
            "4176          0.3765        0.4950     12  \n",
            "\n",
            "[4177 rows x 9 columns]\n"
          ]
        }
      ],
      "source": [
        "import pandas as pd\n",
        "\n",
        "url = \"https://archive.ics.uci.edu/ml/machine-learning-databases/abalone/abalone.data\"\n",
        "\n",
        "# Column names for the data\n",
        "column_names = [\"sex\", \"length\", \"diameter\", \"height\", \"whole_weight\", \n",
        "                \"shucked_weight\", \"viscera_weight\", \"shell_weight\", \"rings\"]\n",
        "\n",
        "# Import data from web link into a pandas data frame\n",
        "data = pd.read_csv(url, header=None, names=column_names)\n",
        "\n",
        "# Print the first 5 rows of the data frame to verify it's been imported correctly\n",
        "print(data)"
      ]
    },
    {
      "cell_type": "markdown",
      "source": [
        "## Preprocessing"
      ],
      "metadata": {
        "id": "0hGKIuVBATVO"
      }
    },
    {
      "cell_type": "code",
      "source": [
        "df2 = pd.get_dummies(data, columns = ['sex'])"
      ],
      "metadata": {
        "id": "Cd8bHoaNAURb"
      },
      "execution_count": 2,
      "outputs": []
    },
    {
      "cell_type": "code",
      "source": [
        "df2.dtypes"
      ],
      "metadata": {
        "colab": {
          "base_uri": "https://localhost:8080/"
        },
        "id": "17o7ZBX0Acau",
        "outputId": "fb201a1b-8830-49f1-ff06-c4c18cd7c2b9"
      },
      "execution_count": 3,
      "outputs": [
        {
          "output_type": "execute_result",
          "data": {
            "text/plain": [
              "length            float64\n",
              "diameter          float64\n",
              "height            float64\n",
              "whole_weight      float64\n",
              "shucked_weight    float64\n",
              "viscera_weight    float64\n",
              "shell_weight      float64\n",
              "rings               int64\n",
              "sex_F               uint8\n",
              "sex_I               uint8\n",
              "sex_M               uint8\n",
              "dtype: object"
            ]
          },
          "metadata": {},
          "execution_count": 3
        }
      ]
    },
    {
      "cell_type": "markdown",
      "source": [
        "## Build the stacking model"
      ],
      "metadata": {
        "id": "badx3mP9Ah2x"
      }
    },
    {
      "cell_type": "code",
      "source": [
        "# Colab needed to download vecstack\n",
        "# pip install vecstack"
      ],
      "metadata": {
        "id": "t_vMCduZEsCY"
      },
      "execution_count": null,
      "outputs": []
    },
    {
      "cell_type": "code",
      "source": [
        "import pandas as pd\n",
        "from sklearn.datasets import load_iris\n",
        "from sklearn.model_selection import train_test_split\n",
        "from sklearn.metrics import mean_absolute_error\n",
        "from sklearn.metrics import accuracy_score\n",
        "from sklearn.neighbors import KNeighborsRegressor\n",
        "from sklearn.ensemble import RandomForestRegressor\n",
        "from xgboost import XGBRegressor\n",
        "from vecstack import stacking"
      ],
      "metadata": {
        "id": "bFDbzwdrEock"
      },
      "execution_count": 23,
      "outputs": []
    },
    {
      "cell_type": "code",
      "source": [
        "# Separate features and target variable\n",
        "X = df2.drop(['rings'], axis=1)\n",
        "y = df2['rings']"
      ],
      "metadata": {
        "id": "ut1gYiDLAj2l"
      },
      "execution_count": 27,
      "outputs": []
    },
    {
      "cell_type": "code",
      "source": [
        "X_train, X_test, y_train, y_test = train_test_split(X, y, test_size=0.2, random_state=0)"
      ],
      "metadata": {
        "id": "AcK1uu5PE_wy"
      },
      "execution_count": 9,
      "outputs": []
    },
    {
      "cell_type": "markdown",
      "source": [
        "**Model 1**"
      ],
      "metadata": {
        "id": "uOVMfd6vJ2il"
      }
    },
    {
      "cell_type": "code",
      "source": [
        "models = [\n",
        "    KNeighborsRegressor(n_neighbors=5,\n",
        "                        n_jobs=-1),\n",
        "        \n",
        "    RandomForestRegressor(random_state=0, n_jobs=-1, \n",
        "                           n_estimators=100, max_depth=3),\n",
        "        \n",
        "    XGBRegressor(random_state=0, n_jobs=-1, learning_rate=0.1, \n",
        "                  n_estimators=100, max_depth=3)\n",
        "]"
      ],
      "metadata": {
        "id": "hFA0KBNrFGA2"
      },
      "execution_count": 13,
      "outputs": []
    },
    {
      "cell_type": "code",
      "source": [
        "S_train, S_test = stacking(models,                   \n",
        "                           X_train, y_train, X_test,   \n",
        "                           regression=True, \n",
        "     \n",
        "                           mode='oof_pred_bag', \n",
        "       \n",
        "                           needs_proba=False,\n",
        "         \n",
        "                           save_dir=None, \n",
        "            \n",
        "                           #metric= mean_absolute_error, \n",
        "    \n",
        "                           n_folds=4,\n",
        "            \n",
        "                           shuffle=True,  \n",
        "            \n",
        "                           random_state=0,    \n",
        "         \n",
        "                           verbose=2)"
      ],
      "metadata": {
        "colab": {
          "base_uri": "https://localhost:8080/"
        },
        "id": "ZDQs7JoiFLen",
        "outputId": "0742b9bd-12a9-4d06-a1d1-764a2a57f965"
      },
      "execution_count": 19,
      "outputs": [
        {
          "output_type": "stream",
          "name": "stdout",
          "text": [
            "task:         [regression]\n",
            "metric:       [mean_absolute_error]\n",
            "mode:         [oof_pred_bag]\n",
            "n_models:     [3]\n",
            "\n",
            "model  0:     [KNeighborsRegressor]\n",
            "    fold  0:  [1.52248804]\n",
            "    fold  1:  [1.63760479]\n",
            "    fold  2:  [1.56622754]\n",
            "    fold  3:  [1.58035928]\n",
            "    ----\n",
            "    MEAN:     [1.57666991] + [0.04114423]\n",
            "    FULL:     [1.57665370]\n",
            "\n",
            "model  1:     [RandomForestRegressor]\n",
            "    fold  0:  [1.60561341]\n",
            "    fold  1:  [1.82365786]\n",
            "    fold  2:  [1.72645955]\n",
            "    fold  3:  [1.68685230]\n",
            "    ----\n",
            "    MEAN:     [1.71064578] + [0.07845338]\n",
            "    FULL:     [1.71061434]\n",
            "\n",
            "model  2:     [XGBRegressor]\n",
            "    fold  0:  [1.44644380]\n",
            "    fold  1:  [1.60779119]\n",
            "    fold  2:  [1.51973012]\n",
            "    fold  3:  [1.52162227]\n",
            "    ----\n",
            "    MEAN:     [1.52389684] + [0.05713968]\n",
            "    FULL:     [1.52387366]\n",
            "\n"
          ]
        }
      ]
    },
    {
      "cell_type": "code",
      "source": [
        "# Initialize 2nd level model\n",
        "model = XGBRegressor(random_state=0, n_jobs=-1, learning_rate=0.1, \n",
        "                     n_estimators=100, max_depth=3)\n",
        "    \n",
        "# Fit 2nd level model\n",
        "model = model.fit(S_train, y_train)\n",
        "\n",
        "# Predict\n",
        "y_pred = model.predict(S_test)\n",
        "\n",
        "# Final prediction score\n",
        "print('Final prediction score: [%.8f]' % mean_absolute_error(y_test, y_pred))"
      ],
      "metadata": {
        "colab": {
          "base_uri": "https://localhost:8080/"
        },
        "id": "chje3QkiHscu",
        "outputId": "7426d0f4-5e02-4491-a702-fca586a94d87"
      },
      "execution_count": 24,
      "outputs": [
        {
          "output_type": "stream",
          "name": "stdout",
          "text": [
            "Final prediction score: [1.51455110]\n"
          ]
        }
      ]
    },
    {
      "cell_type": "markdown",
      "source": [
        "This stacking model outperforms the best model we put together from the bagging activity. This MAE is 1.51455 and the MAE from bagging was 1.567"
      ],
      "metadata": {
        "id": "aQ94oVxaIb3K"
      }
    },
    {
      "cell_type": "markdown",
      "source": [
        "**Model 2**"
      ],
      "metadata": {
        "id": "ZR1spTnGJzfI"
      }
    },
    {
      "cell_type": "code",
      "source": [
        "# compare machine learning models for regression\n",
        "from numpy import mean\n",
        "from numpy import std\n",
        "from sklearn.datasets import make_regression\n",
        "from sklearn.model_selection import cross_val_score\n",
        "from sklearn.model_selection import RepeatedKFold\n",
        "from sklearn.linear_model import LinearRegression\n",
        "from sklearn.neighbors import KNeighborsRegressor\n",
        "from sklearn.tree import DecisionTreeRegressor\n",
        "from sklearn.svm import SVR\n",
        "from matplotlib import pyplot\n",
        " \n",
        "# get the dataset\n",
        "def get_dataset():\n",
        " X, y = make_regression(n_samples=1000, n_features=20, n_informative=15, noise=0.1, random_state=1)\n",
        " return X, y\n",
        " \n",
        "# get a list of models to evaluate\n",
        "def get_models():\n",
        " models = dict()\n",
        " models['knn'] = KNeighborsRegressor()\n",
        " models['cart'] = DecisionTreeRegressor()\n",
        " models['svm'] = SVR()\n",
        " return models\n",
        " \n",
        "# evaluate a given model using cross-validation\n",
        "def evaluate_model(model, X, y):\n",
        " cv = RepeatedKFold(n_splits=10, n_repeats=3, random_state=1)\n",
        " scores = cross_val_score(model, X, y, scoring='neg_mean_absolute_error', cv=cv, n_jobs=-1, error_score='raise')\n",
        " return scores\n",
        " \n",
        "# get the models to evaluate\n",
        "models = get_models()\n",
        "\n",
        "# evaluate the models and store results\n",
        "results, names = list(), list()\n",
        "for name, model in models.items():\n",
        " scores = evaluate_model(model, X, y)\n",
        " results.append(scores)\n",
        " names.append(name)\n",
        " print('>%s %.3f (%.3f)' % (name, mean(scores), std(scores)))\n",
        "# plot model performance for comparison\n",
        "pyplot.boxplot(results, labels=names, showmeans=True)\n",
        "pyplot.show()"
      ],
      "metadata": {
        "colab": {
          "base_uri": "https://localhost:8080/",
          "height": 484
        },
        "id": "JSIdD8wKKMZt",
        "outputId": "c7fee908-e455-471a-eaea-85db8cabde90"
      },
      "execution_count": 25,
      "outputs": [
        {
          "output_type": "stream",
          "name": "stdout",
          "text": [
            ">knn -1.574 (0.071)\n",
            ">cart -2.097 (0.110)\n",
            ">svm -1.534 (0.085)\n"
          ]
        },
        {
          "output_type": "display_data",
          "data": {
            "text/plain": [
              "<Figure size 640x480 with 1 Axes>"
            ],
            "image/png": "[encoded data removed]"
          },
          "metadata": {}
        }
      ]
    },
    {
      "cell_type": "code",
      "source": [
        "# compare ensemble to each standalone models for regression\n",
        "from numpy import mean\n",
        "from numpy import std\n",
        "from sklearn.datasets import make_regression\n",
        "from sklearn.model_selection import cross_val_score\n",
        "from sklearn.model_selection import RepeatedKFold\n",
        "from sklearn.linear_model import LinearRegression\n",
        "from sklearn.neighbors import KNeighborsRegressor\n",
        "from sklearn.tree import DecisionTreeRegressor\n",
        "from sklearn.svm import SVR\n",
        "from xgboost import XGBRegressor\n",
        "from sklearn.ensemble import StackingRegressor\n",
        "from matplotlib import pyplot\n",
        " \n",
        "# get the dataset\n",
        "def get_dataset():\n",
        " X, y = make_regression(n_samples=1000, n_features=20, n_informative=15, noise=0.1, random_state=1)\n",
        " return X, y\n",
        " \n",
        "# get a stacking ensemble of models\n",
        "def get_stacking():\n",
        " # define the base models\n",
        " level0 = list()\n",
        " level0.append(('knn', KNeighborsRegressor()))\n",
        " level0.append(('cart', DecisionTreeRegressor()))\n",
        " level0.append(('svm', SVR()))\n",
        " level0.append(('xbg', XGBRegressor()))\n",
        " # define meta learner model\n",
        " level1 = LinearRegression()\n",
        " # define the stacking ensemble\n",
        " model = StackingRegressor(estimators=level0, final_estimator=level1, cv=5)\n",
        " return model\n",
        " \n",
        "# get a list of models to evaluate\n",
        "def get_models():\n",
        " models = dict()\n",
        " models['knn'] = KNeighborsRegressor()\n",
        " models['cart'] = DecisionTreeRegressor()\n",
        " models['svm'] = SVR()\n",
        " models['xbg'] = XGBRegressor()\n",
        " models['stacking'] = get_stacking()\n",
        " return models\n",
        " \n",
        "# evaluate a given model using cross-validation\n",
        "def evaluate_model(model, X, y):\n",
        " cv = RepeatedKFold(n_splits=10, n_repeats=3, random_state=1)\n",
        " scores = cross_val_score(model, X, y, scoring='neg_mean_absolute_error', cv=cv, n_jobs=-1, error_score='raise')\n",
        " return scores\n",
        " \n",
        "# get the models to evaluate\n",
        "models = get_models()\n",
        "# evaluate the models and store results\n",
        "results, names = list(), list()\n",
        "for name, model in models.items():\n",
        " scores = evaluate_model(model, X, y)\n",
        " results.append(scores)\n",
        " names.append(name)\n",
        " print('>%s %.3f (%.3f)' % (name, mean(scores), std(scores)))\n",
        "# plot model performance for comparison\n",
        "pyplot.boxplot(results, labels=names, showmeans=True)\n",
        "pyplot.show()"
      ],
      "metadata": {
        "colab": {
          "base_uri": "https://localhost:8080/",
          "height": 519
        },
        "id": "wSrGVpZWLGVs",
        "outputId": "6655c654-0730-4263-ede3-3713f924a4b8"
      },
      "execution_count": 29,
      "outputs": [
        {
          "output_type": "stream",
          "name": "stdout",
          "text": [
            ">knn -1.574 (0.071)\n",
            ">cart -2.086 (0.116)\n",
            ">svm -1.534 (0.085)\n",
            ">xbg -1.605 (0.085)\n",
            ">stacking -1.511 (0.075)\n"
          ]
        },
        {
          "output_type": "display_data",
          "data": {
            "text/plain": [
              "<Figure size 640x480 with 1 Axes>"
            ],
            "image/png": "[encoded data removed]"
          },
          "metadata": {}
        }
      ]
    },
    {
      "cell_type": "markdown",
      "source": [
        "The MAE for the stacking Model 2 is 1.511 which is ever so slightly better than the first stacking model we made. This could be due to the sampling. The parameteres could be tuned better."
      ],
      "metadata": {
        "id": "VxIejlopO_ZQ"
      }
    }
  ]
}