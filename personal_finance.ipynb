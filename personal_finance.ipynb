{
  "nbformat": 4,
  "nbformat_minor": 0,
  "metadata": {
    "colab": {
      "provenance": [],
      "authorship_tag": "ABX9TyOPXnjsoYcglmZSjhbvBV76",
      "include_colab_link": true
    },
    "kernelspec": {
      "name": "python3",
      "display_name": "Python 3"
    },
    "language_info": {
      "name": "python"
    }
  },
  "cells": [
    {
      "cell_type": "markdown",
      "metadata": {
        "id": "view-in-github",
        "colab_type": "text"
      },
      "source": [
        "<a href=\"https://colab.research.google.com/github/evroth/gsb545repo/blob/main/personal_finance.ipynb\" target=\"_parent\"><img src=\"https://colab.research.google.com/assets/colab-badge.svg\" alt=\"Open In Colab\"/></a>"
      ]
    },
    {
      "cell_type": "markdown",
      "source": [
        "# Personal Finance Activity"
      ],
      "metadata": {
        "id": "Api-6BNKj8MK"
      }
    },
    {
      "cell_type": "markdown",
      "source": [
        "## Question 1\n",
        "*What were your reasons for pursuing this MSBA program here at Cal Poly? Did you come straight from another academic program (Bachelors, Masters, etc.) or were you working before this? What program(s) or job did you come from?*"
      ],
      "metadata": {
        "id": "LFyIIVMzkDEH"
      }
    },
    {
      "cell_type": "markdown",
      "source": [
        "I chose to pursue this MSBA program for many reasons. One is I wanted to get a leg up in the job market, so having a stronger technical background and a masters degree would help, especially down the line in a job. I came straight from my undergrad in econ here, which I did in two years and two quarters, so that leads to reason two why I wanted to do the program. I wanted my fourth year in college here. I wasn't ready to leave. Also reason number 3 is that this program is much more affordable than ucla or similar program out of state, thought it is still expensive tho for half of the classes being the same as undergrad- maybe thats just how the system works."
      ],
      "metadata": {
        "id": "umcnbr6ykc3V"
      }
    },
    {
      "cell_type": "markdown",
      "source": [
        "## Question 2\n",
        "*What job or career do you hope to pursue after graduating from this MSBA program? Do you have particular industries or companies in mind? If so, what are they? Do you have particular places in mind that you'd like to live or work? Why are you interested in these companies, etc.?*"
      ],
      "metadata": {
        "id": "cZdvGsMJmBU0"
      }
    },
    {
      "cell_type": "markdown",
      "source": [
        "At the begininng of the year I wanted to go into some business analyst or data analyst role. I wanted to go into tech and/or a large company to learn at first. I was not settled on a place, I was looking out of state, but if I stayed in the state I would have looked at SD or maybe SF i it paid right. I just wanted a new experience and I big city could be fun after living in slo for 4 years. In October I took a job with AT&T so I guess I kind of know what I'll be doing which has been nice. I am doing a data analyst role in a two ish year rotational which should be fun and let me explore and learn a lot. I'll be moving to their HQ in Dallas which is quite a shift, but I know quite a few people there and they all enjoy it. I have heard it is a decent company to work for and the work life balance is not bad, which is big for me. "
      ],
      "metadata": {
        "id": "WUDfEQFBmE1r"
      }
    },
    {
      "cell_type": "markdown",
      "source": [
        "## Finance Stuff\n"
      ],
      "metadata": {
        "id": "Fu0vKvtpoLHW"
      }
    },
    {
      "cell_type": "markdown",
      "source": [
        "*What is your estimate of the cost-of-living in your desired place to live, per month? You should justify this estimate by citing online sources or other relevant information. You should also break this down into component costs (e.g. housing, utilities, car, gas, internet, food, entertainment, etc.) as much as you can.*"
      ],
      "metadata": {
        "id": "DoC3HtiDofd6"
      }
    },
    {
      "cell_type": "markdown",
      "source": [
        "Some of the numbers taken from https://www.numbeo.com/cost-of-living/in/Dallas, https://www.upnest.com/1/post/cost-of-living-dallas/#:~:text=Food,%24775%20per%20month%20on%20food.\n",
        "\n"
      ],
      "metadata": {
        "id": "xzeRUJCIvcEP"
      }
    },
    {
      "cell_type": "code",
      "source": [
        "# Costs\n",
        "\n",
        "# From ATT website minus any fees, add discount, includes family's phones\n",
        "home_fiber = 27.5\n",
        "phone_bill = 100\n",
        "\n",
        "# Food\n",
        "cheap_dining = 20\n",
        "nice_dining = 35\n",
        "groceries = 300\n",
        "protein_powder = 35\n",
        "\n",
        "# Dog's Stuff\n",
        "dog_food = 70\n",
        "dog_other = 30\n",
        "\n",
        "# Transportation\n",
        "car_insurance = 200\n",
        "gas = 3.15\n",
        "oil_change = 70\n",
        "\n",
        "# Housing\n",
        "rent = 1550\n",
        "utilities = 200\n",
        "pet_rent = 50\n",
        "covered_parking = 50\n",
        "\n",
        "# Misc Costs\n",
        "gym = 30 #discounted\n",
        "sports_game = 75\n",
        "fun = 300\n",
        "bills_other = 100\n",
        "rand_healthcare = 50\n",
        "vacation_fund = 200"
      ],
      "metadata": {
        "id": "SduWrmYBompt"
      },
      "execution_count": null,
      "outputs": []
    },
    {
      "cell_type": "code",
      "source": [
        "# Random Variables\n",
        "amount_nice_dining = 5\n",
        "amount_cheap_dining = 10\n",
        "dog_food_lasts = 1.5 #months\n",
        "amount_sports_games = 1\n",
        "miles_to_work = 25\n",
        "office_days = 14\n",
        "other_driving_miles = 10"
      ],
      "metadata": {
        "id": "zM7ifhSW0mRY"
      },
      "execution_count": null,
      "outputs": []
    },
    {
      "cell_type": "code",
      "source": [
        "# Monthly Costs\n",
        "\n",
        "print(\"\"\"Monthly Costs:\n",
        "\"\"\")\n",
        "\n",
        "# Phone/Internet\n",
        "phone_internet_monthly = home_fiber + phone_bill\n",
        "print(\"Phone/Internet: \" + str(phone_internet_monthly))\n",
        "\n",
        "# Food\n",
        "food_monthly = groceries + (nice_dining*amount_nice_dining) + (cheap_dining*amount_cheap_dining) + protein_powder\n",
        "print(\"Food: \" + str(food_monthly))\n",
        "\n",
        "# Dog\n",
        "dog_monthly = round(((dog_food/dog_food_lasts) + dog_other),2)\n",
        "print(\"Dog: \"  + str(dog_monthly))\n",
        "\n",
        "# Transportation\n",
        "truck_mpg = 16\n",
        "gas_monthly = (((miles_to_work*2*office_days)/truck_mpg)*gas) + (((other_driving_miles*30)/truck_mpg)*gas)\n",
        "other_truck_costs = (oil_change/6) + car_insurance\n",
        "transport_monthly = round((gas_monthly + other_truck_costs),2)\n",
        "print(\"Transportation: \" + str(transport_monthly))\n",
        "\n",
        "# Housing\n",
        "housing_monthly = rent + utilities + pet_rent + covered_parking\n",
        "print(\"Housing/Utilities: \" + str(housing_monthly))\n",
        "\n",
        "# Misc Costs\n",
        "misc_monthly = gym + (sports_game*amount_sports_games) + fun + bills_other + rand_healthcare + vacation_fund\n",
        "print(\"Misc Costs: \" + str(misc_monthly))\n"
      ],
      "metadata": {
        "colab": {
          "base_uri": "https://localhost:8080/"
        },
        "id": "TAMOUOWZznQR",
        "outputId": "e75a0f3a-2f39-4856-9a87-54dc7e9d3733"
      },
      "execution_count": null,
      "outputs": [
        {
          "output_type": "stream",
          "name": "stdout",
          "text": [
            "Monthly Costs:\n",
            "\n",
            "Phone/Internet: 127.5\n",
            "Food: 710\n",
            "Dog: 76.67\n",
            "Transportation: 408.54\n",
            "Housing/Utilities: 1850\n",
            "Misc Costs: 755\n"
          ]
        }
      ]
    },
    {
      "cell_type": "code",
      "source": [
        "# Total Monthly Cost of Living\n",
        "\n",
        "cost_of_living = phone_internet_monthly + food_monthly + dog_monthly + transport_monthly + housing_monthly + misc_monthly\n",
        "\n",
        "print(\"\"\"Total Monthly Cost of Living:\n",
        "\"\"\" + str(cost_of_living))"
      ],
      "metadata": {
        "colab": {
          "base_uri": "https://localhost:8080/"
        },
        "id": "W9cG4JYJ9cyf",
        "outputId": "99d07820-fa75-4c94-8e98-248a3b41edbc"
      },
      "execution_count": null,
      "outputs": [
        {
          "output_type": "stream",
          "name": "stdout",
          "text": [
            "Total Monthly Cost of Living:\n",
            "3927.71\n"
          ]
        }
      ]
    },
    {
      "cell_type": "markdown",
      "source": [
        "*What is the annual salary you need to afford the costs you outlined above? This should, in essence, be the minimum salary you need to afford the life you could live happily (you could probably survive on less, but let's not get too detailed here). Be careful to consider whether you're taking taxes into account! We don't need to get too detailed here either, but you should try to estimate what your actual take-home pay is versus the gross salary that you might be presented with in the offer from your employer.*\n",
        "\n",
        "*Note this is minimum salary for cost of living, not retirement, savings, etc...*\n",
        "\n",
        "*Tax rate from https://smartasset.com/taxes/texas-tax-calculator#m45sM8kNTq*"
      ],
      "metadata": {
        "id": "NYZRSFW5Dxp4"
      }
    },
    {
      "cell_type": "code",
      "source": [
        "# Annual Salary Minimum\n",
        "\n",
        "post_tax_min = cost_of_living*12\n",
        "\n",
        "tax_rate = .23 # approx avg tax rate at actual income level, would be lower in this situation\n",
        "\n",
        "min_annual_salary = round((post_tax_min/(1-tax_rate)),2)\n",
        "\n",
        "print(\"\"\"Minimum Annual Salary Minimum:\n",
        "\"\"\" + str(min_annual_salary))"
      ],
      "metadata": {
        "colab": {
          "base_uri": "https://localhost:8080/"
        },
        "id": "iuM6Qm7oETLv",
        "outputId": "0d47a779-93ec-4c19-9c4b-679bb88ff380"
      },
      "execution_count": null,
      "outputs": [
        {
          "output_type": "stream",
          "name": "stdout",
          "text": [
            "Minimum Annual Salary Minimum:\n",
            "61211.06\n"
          ]
        }
      ]
    },
    {
      "cell_type": "markdown",
      "source": [
        "*What is the annual salary you WANT? I imagine this will be higher than what was previously mentioned. What do you want the additional income for?*"
      ],
      "metadata": {
        "id": "xbUxG-Z-LMF4"
      }
    },
    {
      "cell_type": "code",
      "source": [
        "# Other Wants \n",
        "\n",
        "# annual savings\n",
        "roth_ira = 6500\n",
        "savings = 20000\n",
        "job_401k = 16600\n",
        "\n",
        "# fun things\n",
        "new_phone = 0\n",
        "new_car = 0"
      ],
      "metadata": {
        "id": "ON2-xJokLNXi"
      },
      "execution_count": null,
      "outputs": []
    },
    {
      "cell_type": "markdown",
      "source": [
        "function below to play around with company match stuff"
      ],
      "metadata": {
        "id": "8TCbDfu3TX7R"
      }
    },
    {
      "cell_type": "code",
      "source": [
        "def calc_401k_savings(salary: float, percentage: float) -> float:\n",
        "\n",
        "    if percentage < .06:\n",
        "        raise ValueError(f\"Hey dumbass you better at least get the free money from your employeer!\")\n",
        "\n",
        "    match_first_3pct = salary*.03*(4/3)\n",
        "    match_second_3pct = salary*.03\n",
        "\n",
        "    base_match = (match_first_3pct + match_second_3pct + (salary*percentage))\n",
        " \n",
        "    return base_match\n"
      ],
      "metadata": {
        "id": "f0S8ct1mMMuV"
      },
      "execution_count": null,
      "outputs": []
    },
    {
      "cell_type": "code",
      "source": [
        "calc_401k_savings(115000, .075)"
      ],
      "metadata": {
        "colab": {
          "base_uri": "https://localhost:8080/"
        },
        "id": "lLfakKUpOgXJ",
        "outputId": "7fc86ced-ea06-4f98-c608-09c21614660d"
      },
      "execution_count": null,
      "outputs": [
        {
          "output_type": "execute_result",
          "data": {
            "text/plain": [
              "16675.0"
            ]
          },
          "metadata": {},
          "execution_count": 270
        }
      ]
    },
    {
      "cell_type": "markdown",
      "source": [
        "Actual Salary I want:"
      ],
      "metadata": {
        "id": "oi1pi96aUnRf"
      }
    },
    {
      "cell_type": "markdown",
      "source": [
        "for simplicity as of now I am not doing the tax deduction for 401k contribution, but you would see a slight savings"
      ],
      "metadata": {
        "id": "HsLkA7dYVWiC"
      }
    },
    {
      "cell_type": "code",
      "source": [
        "total_monthly_costs = round((cost_of_living + (roth_ira/12) + (savings/12) + (job_401k/12) + new_phone + new_car),2)\n",
        "\n",
        "print(\"\"\"Total Monthly Costs:\n",
        "\"\"\" + str(total_monthly_costs))"
      ],
      "metadata": {
        "colab": {
          "base_uri": "https://localhost:8080/"
        },
        "id": "fzhvsmX4UlLf",
        "outputId": "0b59b380-1108-4903-96b9-5a96218810f3"
      },
      "execution_count": null,
      "outputs": [
        {
          "output_type": "stream",
          "name": "stdout",
          "text": [
            "Total Monthly Costs:\n",
            "7519.38\n"
          ]
        }
      ]
    },
    {
      "cell_type": "code",
      "source": [
        "# Wanted Annual Salary\n",
        "\n",
        "annual_post_tax = total_monthly_costs*12\n",
        "\n",
        "wanted_annual_salary = round((annual_post_tax/(1-tax_rate)),2)\n",
        "\n",
        "print(\"\"\"Wanted Annual Salary:\n",
        "\"\"\" + str(wanted_annual_salary))"
      ],
      "metadata": {
        "colab": {
          "base_uri": "https://localhost:8080/"
        },
        "id": "6-7QvxxUWG5T",
        "outputId": "df06ccfd-5200-49fa-da04-665e6862f3c0"
      },
      "execution_count": null,
      "outputs": [
        {
          "output_type": "stream",
          "name": "stdout",
          "text": [
            "Wanted Annual Salary:\n",
            "117185.14\n"
          ]
        }
      ]
    },
    {
      "cell_type": "markdown",
      "source": [
        "Not too bad"
      ],
      "metadata": {
        "id": "PZM2LuLnYSDc"
      }
    },
    {
      "cell_type": "markdown",
      "source": [
        "*Finally, when do you want to retire and with how much money? This is where the bulk of your computations for this assignment will be, and you may need to do some research into how these things are computed. Your job may have retirement funding built into it; it may not. Additionally, there are some calculators online that do some of these types of calculations for you. I'd like you to (re-)do these calculations as much as possible on your own in Python.*"
      ],
      "metadata": {
        "id": "ql2OOsASYbmB"
      }
    },
    {
      "cell_type": "markdown",
      "source": [
        "I want to retire in my 40s or at least be able to pivot to a lower paying job where I can do something good to give back or start my own business. I built out below to just get a feel if the amount I would like to save/invest is enough to get to retirement and then the rest of my life."
      ],
      "metadata": {
        "id": "7DPexD6w5SUF"
      }
    },
    {
      "cell_type": "markdown",
      "source": [
        "Given the assumptions: I live to 95, I retire at 60, I want the equivalent of 3750 a month in today money each month in retirement, and there is an annual inflation rate of .03... By the age 60 I should have about 3.5 million in then dollars saved to support that. Using nerd wallet as reference. This probably isn't too exact, there are many other factors."
      ],
      "metadata": {
        "id": "WTPPNab57r-d"
      }
    },
    {
      "cell_type": "code",
      "source": [
        "# Retirement stuff\n",
        "\n",
        "current_age = 22\n",
        "retirement_age = 47\n",
        "distribution_age = 60\n",
        "retirement_savings = 1500000 # in today money\n",
        "invested_return = .07\n",
        "inflation = .03\n"
      ],
      "metadata": {
        "id": "Vw-U2f7WYj5e"
      },
      "execution_count": null,
      "outputs": []
    },
    {
      "cell_type": "code",
      "source": [
        "def retirement_calculator(retirement_age, distribution_age):\n",
        "    if retirement_age <= distribution_age:\n",
        "        years_until_distribution = distribution_age - retirement_age\n",
        "\n",
        "        fv_401k = round((job_401k*(((1+invested_return)**(retirement_age-current_age)-1)/(invested_return))),2)\n",
        "        fv_roth = round(((roth_ira*((1+invested_return)**(retirement_age-current_age)-1)/(invested_return))),2)\n",
        "\n",
        "        retire_401k_amnt = round((fv_401k*((1+invested_return)**(years_until_distribution))),2)\n",
        "        retire_roth_amnt = round((fv_roth*((1+invested_return)**(years_until_distribution))),2)\n",
        "\n",
        "        pv_401k = round((retire_401k_amnt/((1+inflation)**(distribution_age-current_age))),2)\n",
        "        pv_roth = round((retire_roth_amnt/((1+inflation)**(distribution_age-current_age))),2)\n",
        "\n",
        "        fv_savings = round(((savings*((1+invested_return)**(retirement_age-current_age)-1)/(invested_return))),2) # saved til retirement\n",
        "        pv_savings = round((fv_savings/((1+inflation)**(retirement_age-current_age))),2) # value today of what is saved\n",
        "\n",
        "        print(f\"\"\"401k Amount at {retirement_age}: \n",
        "\"\"\" + str(fv_401k) + \"\"\" \n",
        "\"\"\")\n",
        "        print(f\"\"\"401k Amount at Distribution age {distribution_age}: \n",
        "\"\"\" + str(retire_401k_amnt) + \"\"\" \n",
        "\"\"\")\n",
        "        print(\"\"\"What 401k is worth in today $: \n",
        "\"\"\" + str(pv_401k) + \"\"\" \n",
        "\"\"\")\n",
        "        print(f\"\"\"Roth Amount at {retirement_age}: \n",
        "\"\"\" + str(fv_roth) + \"\"\" \n",
        "\"\"\")\n",
        "        print(f\"\"\"Roth Amount at Distribution age {distribution_age}: \n",
        "\"\"\" + str(retire_roth_amnt) + \"\"\" \n",
        "\"\"\")\n",
        "        print(\"\"\"What Roth is worth in today $: \n",
        "\"\"\" + str(pv_roth) + \"\"\" \n",
        "\"\"\")\n",
        "        print(f\"\"\"Saved Amount at {retirement_age}: \n",
        "\"\"\" + str(fv_savings) + \"\"\" \n",
        "\"\"\")\n",
        "        print(f\"\"\"Savings value in today $ at age retired: \n",
        "\"\"\" + str(pv_savings) + \"\"\" \n",
        "\"\"\")\n",
        "        \n",
        "    else:\n",
        "\n",
        "        return ValueError(f\"You better retire before 60\")\n",
        "\n",
        "\n"
      ],
      "metadata": {
        "id": "reIHS8XOjF9Y"
      },
      "execution_count": null,
      "outputs": []
    },
    {
      "cell_type": "code",
      "source": [
        "def retirement_calculator_neat(retirement_age, distribution_age):\n",
        "    if retirement_age <= distribution_age:\n",
        "        years_until_distribution = distribution_age - retirement_age\n",
        "\n",
        "        fv_401k = round((job_401k*(((1+invested_return)**(retirement_age-current_age)-1)/(invested_return))),2)\n",
        "        fv_roth = round(((roth_ira*((1+invested_return)**(retirement_age-current_age)-1)/(invested_return))),2)\n",
        "\n",
        "        retire_401k_amnt = round((fv_401k*((1+invested_return)**(years_until_distribution))),2)\n",
        "        retire_roth_amnt = round((fv_roth*((1+invested_return)**(years_until_distribution))),2)\n",
        "\n",
        "        pv_401k = round((retire_401k_amnt/((1+inflation)**(distribution_age-current_age))),2)\n",
        "        pv_roth = round((retire_roth_amnt/((1+inflation)**(distribution_age-current_age))),2)\n",
        "\n",
        "        fv_savings = round(((savings*((1+invested_return)**(retirement_age-current_age)-1)/(invested_return))),2) # saved til retirement\n",
        "        pv_savings = round((fv_savings/((1+inflation)**(retirement_age-current_age))),2) # value today of what is saved\n",
        "        \n",
        "        results = {\n",
        "            'fv_401k': fv_401k,\n",
        "            'retire_401k_amnt': retire_401k_amnt,\n",
        "            'pv_401k': pv_401k,\n",
        "            'fv_roth': fv_roth,\n",
        "            'retire_roth_amnt': retire_roth_amnt,\n",
        "            'pv_roth': pv_roth,\n",
        "            'fv_savings': fv_savings,\n",
        "            'pv_savings': pv_savings,\n",
        "        }\n",
        "        \n",
        "        return results\n",
        "        \n",
        "    else:\n",
        "\n",
        "        return ValueError(f\"You better retire before 60\")\n"
      ],
      "metadata": {
        "id": "6YvY80HNBUsI"
      },
      "execution_count": null,
      "outputs": []
    },
    {
      "cell_type": "code",
      "source": [
        "retirement_calculator(retirement_age,distribution_age)"
      ],
      "metadata": {
        "colab": {
          "base_uri": "https://localhost:8080/"
        },
        "id": "BRuzzTbCmqlc",
        "outputId": "962ea39c-cd42-4787-c639-e455a42838d7"
      },
      "execution_count": null,
      "outputs": [
        {
          "output_type": "stream",
          "name": "stdout",
          "text": [
            "401k Amount at 47: \n",
            "1049934.03 \n",
            "\n",
            "401k Amount at Distribution age 60: \n",
            "2530178.27 \n",
            "\n",
            "What 401k is worth in today $: \n",
            "822880.14 \n",
            "\n",
            "Roth Amount at 47: \n",
            "411118.75 \n",
            "\n",
            "Roth Amount at Distribution age 60: \n",
            "990732.46 \n",
            "\n",
            "What Roth is worth in today $: \n",
            "322212.11 \n",
            "\n",
            "Saved Amount at 47: \n",
            "1264980.75 \n",
            "\n",
            "Savings value in today $ at age retired: \n",
            "604161.85 \n",
            "\n"
          ]
        }
      ]
    },
    {
      "cell_type": "code",
      "source": [
        "retirement_calculator_neat(retirement_age,distribution_age)"
      ],
      "metadata": {
        "colab": {
          "base_uri": "https://localhost:8080/"
        },
        "id": "v7c68fvmB1VL",
        "outputId": "3644b2ea-e374-4cde-87e1-15605ea7adab"
      },
      "execution_count": null,
      "outputs": [
        {
          "output_type": "execute_result",
          "data": {
            "text/plain": [
              "{'fv_401k': 1049934.03,\n",
              " 'retire_401k_amnt': 2530178.27,\n",
              " 'pv_401k': 822880.14,\n",
              " 'fv_roth': 411118.75,\n",
              " 'retire_roth_amnt': 990732.46,\n",
              " 'pv_roth': 322212.11,\n",
              " 'fv_savings': 1264980.75,\n",
              " 'pv_savings': 604161.85}"
            ]
          },
          "metadata": {},
          "execution_count": 262
        }
      ]
    },
    {
      "cell_type": "code",
      "source": [
        "results = retirement_calculator_neat(retirement_age, distribution_age)\n",
        "total_value = results['retire_401k_amnt'] + results['retire_roth_amnt']\n",
        "print(total_value)"
      ],
      "metadata": {
        "colab": {
          "base_uri": "https://localhost:8080/"
        },
        "id": "Vmus3G5UBj4d",
        "outputId": "61518a5d-f2a0-4ec0-89f0-c7b871883f46"
      },
      "execution_count": null,
      "outputs": [
        {
          "output_type": "stream",
          "name": "stdout",
          "text": [
            "3520910.73\n"
          ]
        }
      ]
    },
    {
      "cell_type": "markdown",
      "source": [
        "This will probably work unless they get rid of social security..."
      ],
      "metadata": {
        "id": "pWfplw1VCNK9"
      }
    },
    {
      "cell_type": "markdown",
      "source": [
        "Working backwards with this informatio, the rough salary I need to retire when I want with the amount I specified is $117,185.14"
      ],
      "metadata": {
        "id": "0qsQkCw_EqD1"
      }
    },
    {
      "cell_type": "markdown",
      "source": [
        "Some additional citations:\n",
        "\n",
        "https://www.wallstreetprep.com/knowledge/time-value-of-money/\n",
        "\n",
        "https://www.investopedia.com/retirement/calculating-present-and-future-value-of-annuities/\n",
        "\n",
        "https://www.nerdwallet.com/investing/retirement-calculator\n"
      ],
      "metadata": {
        "id": "Hpd42o9QF2RJ"
      }
    }
  ]
}